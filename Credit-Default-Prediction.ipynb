{
 "cells": [
  {
   "cell_type": "code",
   "execution_count": 121,
   "metadata": {},
   "outputs": [],
   "source": [
    "#Import the required Packages\n",
    "import pandas as pd\n",
    "import matplotlib \n",
    "import matplotlib.pyplot as plt\n",
    "import seaborn as sns\n",
    "import numpy as np\n",
    "from sklearn.manifold import TSNE\n",
    "from IPython.core.interactiveshell import InteractiveShell\n",
    "import warnings\n",
    "from sklearn.preprocessing import StandardScaler\n",
    "from sklearn.manifold import TSNE\n",
    "warnings.filterwarnings('ignore') # to supress seaborn warnings\n",
    "import os"
   ]
  },
  {
   "cell_type": "code",
   "execution_count": 122,
   "metadata": {},
   "outputs": [],
   "source": [
    "data_dir ='C:/Users/Keerthi/Desktop/working/'\n",
    "os.chdir(data_dir)"
   ]
  },
  {
   "cell_type": "code",
   "execution_count": 123,
   "metadata": {},
   "outputs": [],
   "source": [
    "# Read the data into DataFrames.\n",
    "train = pd.read_csv(\"credit_card_default_TRAIN.csv\",index_col=0)\n",
    "test = pd.read_csv(\"credit_card_default_TEST.csv\",index_col=0)"
   ]
  },
  {
   "cell_type": "code",
   "execution_count": 124,
   "metadata": {},
   "outputs": [
    {
     "data": {
      "text/html": [
       "<div>\n",
       "<style scoped>\n",
       "    .dataframe tbody tr th:only-of-type {\n",
       "        vertical-align: middle;\n",
       "    }\n",
       "\n",
       "    .dataframe tbody tr th {\n",
       "        vertical-align: top;\n",
       "    }\n",
       "\n",
       "    .dataframe thead th {\n",
       "        text-align: right;\n",
       "    }\n",
       "</style>\n",
       "<table border=\"1\" class=\"dataframe\">\n",
       "  <thead>\n",
       "    <tr style=\"text-align: right;\">\n",
       "      <th></th>\n",
       "      <th>LIMIT_BAL</th>\n",
       "      <th>SEX</th>\n",
       "      <th>EDUCATION</th>\n",
       "      <th>MARRIAGE</th>\n",
       "      <th>AGE</th>\n",
       "      <th>PAY_0</th>\n",
       "      <th>PAY_2</th>\n",
       "      <th>PAY_3</th>\n",
       "      <th>PAY_4</th>\n",
       "      <th>PAY_5</th>\n",
       "      <th>...</th>\n",
       "      <th>BILL_AMT4</th>\n",
       "      <th>BILL_AMT5</th>\n",
       "      <th>BILL_AMT6</th>\n",
       "      <th>PAY_AMT1</th>\n",
       "      <th>PAY_AMT2</th>\n",
       "      <th>PAY_AMT3</th>\n",
       "      <th>PAY_AMT4</th>\n",
       "      <th>PAY_AMT5</th>\n",
       "      <th>PAY_AMT6</th>\n",
       "      <th>default payment next month</th>\n",
       "    </tr>\n",
       "    <tr>\n",
       "      <th>ID</th>\n",
       "      <th></th>\n",
       "      <th></th>\n",
       "      <th></th>\n",
       "      <th></th>\n",
       "      <th></th>\n",
       "      <th></th>\n",
       "      <th></th>\n",
       "      <th></th>\n",
       "      <th></th>\n",
       "      <th></th>\n",
       "      <th></th>\n",
       "      <th></th>\n",
       "      <th></th>\n",
       "      <th></th>\n",
       "      <th></th>\n",
       "      <th></th>\n",
       "      <th></th>\n",
       "      <th></th>\n",
       "      <th></th>\n",
       "      <th></th>\n",
       "      <th></th>\n",
       "    </tr>\n",
       "  </thead>\n",
       "  <tbody>\n",
       "    <tr>\n",
       "      <th>1</th>\n",
       "      <td>20000</td>\n",
       "      <td>2</td>\n",
       "      <td>2</td>\n",
       "      <td>1</td>\n",
       "      <td>24</td>\n",
       "      <td>2</td>\n",
       "      <td>2</td>\n",
       "      <td>-1</td>\n",
       "      <td>-1</td>\n",
       "      <td>-2</td>\n",
       "      <td>...</td>\n",
       "      <td>0</td>\n",
       "      <td>0</td>\n",
       "      <td>0</td>\n",
       "      <td>0</td>\n",
       "      <td>689</td>\n",
       "      <td>0</td>\n",
       "      <td>0</td>\n",
       "      <td>0</td>\n",
       "      <td>0</td>\n",
       "      <td>1</td>\n",
       "    </tr>\n",
       "    <tr>\n",
       "      <th>2</th>\n",
       "      <td>120000</td>\n",
       "      <td>2</td>\n",
       "      <td>2</td>\n",
       "      <td>2</td>\n",
       "      <td>26</td>\n",
       "      <td>-1</td>\n",
       "      <td>2</td>\n",
       "      <td>0</td>\n",
       "      <td>0</td>\n",
       "      <td>0</td>\n",
       "      <td>...</td>\n",
       "      <td>3272</td>\n",
       "      <td>3455</td>\n",
       "      <td>3261</td>\n",
       "      <td>0</td>\n",
       "      <td>1000</td>\n",
       "      <td>1000</td>\n",
       "      <td>1000</td>\n",
       "      <td>0</td>\n",
       "      <td>2000</td>\n",
       "      <td>1</td>\n",
       "    </tr>\n",
       "    <tr>\n",
       "      <th>3</th>\n",
       "      <td>90000</td>\n",
       "      <td>2</td>\n",
       "      <td>2</td>\n",
       "      <td>2</td>\n",
       "      <td>34</td>\n",
       "      <td>0</td>\n",
       "      <td>0</td>\n",
       "      <td>0</td>\n",
       "      <td>0</td>\n",
       "      <td>0</td>\n",
       "      <td>...</td>\n",
       "      <td>14331</td>\n",
       "      <td>14948</td>\n",
       "      <td>15549</td>\n",
       "      <td>1518</td>\n",
       "      <td>1500</td>\n",
       "      <td>1000</td>\n",
       "      <td>1000</td>\n",
       "      <td>1000</td>\n",
       "      <td>5000</td>\n",
       "      <td>0</td>\n",
       "    </tr>\n",
       "    <tr>\n",
       "      <th>4</th>\n",
       "      <td>50000</td>\n",
       "      <td>2</td>\n",
       "      <td>2</td>\n",
       "      <td>1</td>\n",
       "      <td>37</td>\n",
       "      <td>0</td>\n",
       "      <td>0</td>\n",
       "      <td>0</td>\n",
       "      <td>0</td>\n",
       "      <td>0</td>\n",
       "      <td>...</td>\n",
       "      <td>28314</td>\n",
       "      <td>28959</td>\n",
       "      <td>29547</td>\n",
       "      <td>2000</td>\n",
       "      <td>2019</td>\n",
       "      <td>1200</td>\n",
       "      <td>1100</td>\n",
       "      <td>1069</td>\n",
       "      <td>1000</td>\n",
       "      <td>0</td>\n",
       "    </tr>\n",
       "    <tr>\n",
       "      <th>5</th>\n",
       "      <td>50000</td>\n",
       "      <td>1</td>\n",
       "      <td>2</td>\n",
       "      <td>1</td>\n",
       "      <td>57</td>\n",
       "      <td>-1</td>\n",
       "      <td>0</td>\n",
       "      <td>-1</td>\n",
       "      <td>0</td>\n",
       "      <td>0</td>\n",
       "      <td>...</td>\n",
       "      <td>20940</td>\n",
       "      <td>19146</td>\n",
       "      <td>19131</td>\n",
       "      <td>2000</td>\n",
       "      <td>36681</td>\n",
       "      <td>10000</td>\n",
       "      <td>9000</td>\n",
       "      <td>689</td>\n",
       "      <td>679</td>\n",
       "      <td>0</td>\n",
       "    </tr>\n",
       "  </tbody>\n",
       "</table>\n",
       "<p>5 rows × 24 columns</p>\n",
       "</div>"
      ],
      "text/plain": [
       "    LIMIT_BAL  SEX  EDUCATION  MARRIAGE  AGE  PAY_0  PAY_2  PAY_3  PAY_4  \\\n",
       "ID                                                                         \n",
       "1       20000    2          2         1   24      2      2     -1     -1   \n",
       "2      120000    2          2         2   26     -1      2      0      0   \n",
       "3       90000    2          2         2   34      0      0      0      0   \n",
       "4       50000    2          2         1   37      0      0      0      0   \n",
       "5       50000    1          2         1   57     -1      0     -1      0   \n",
       "\n",
       "    PAY_5  ...  BILL_AMT4  BILL_AMT5  BILL_AMT6  PAY_AMT1  PAY_AMT2  PAY_AMT3  \\\n",
       "ID         ...                                                                  \n",
       "1      -2  ...          0          0          0         0       689         0   \n",
       "2       0  ...       3272       3455       3261         0      1000      1000   \n",
       "3       0  ...      14331      14948      15549      1518      1500      1000   \n",
       "4       0  ...      28314      28959      29547      2000      2019      1200   \n",
       "5       0  ...      20940      19146      19131      2000     36681     10000   \n",
       "\n",
       "    PAY_AMT4  PAY_AMT5  PAY_AMT6  default payment next month  \n",
       "ID                                                            \n",
       "1          0         0         0                           1  \n",
       "2       1000         0      2000                           1  \n",
       "3       1000      1000      5000                           0  \n",
       "4       1100      1069      1000                           0  \n",
       "5       9000       689       679                           0  \n",
       "\n",
       "[5 rows x 24 columns]"
      ]
     },
     "execution_count": 124,
     "metadata": {},
     "output_type": "execute_result"
    }
   ],
   "source": [
    "train.head()"
   ]
  },
  {
   "cell_type": "code",
   "execution_count": 125,
   "metadata": {},
   "outputs": [
    {
     "data": {
      "text/html": [
       "<div>\n",
       "<style scoped>\n",
       "    .dataframe tbody tr th:only-of-type {\n",
       "        vertical-align: middle;\n",
       "    }\n",
       "\n",
       "    .dataframe tbody tr th {\n",
       "        vertical-align: top;\n",
       "    }\n",
       "\n",
       "    .dataframe thead th {\n",
       "        text-align: right;\n",
       "    }\n",
       "</style>\n",
       "<table border=\"1\" class=\"dataframe\">\n",
       "  <thead>\n",
       "    <tr style=\"text-align: right;\">\n",
       "      <th></th>\n",
       "      <th>LIMIT_BAL</th>\n",
       "      <th>SEX</th>\n",
       "      <th>EDUCATION</th>\n",
       "      <th>MARRIAGE</th>\n",
       "      <th>AGE</th>\n",
       "      <th>PAY_0</th>\n",
       "      <th>PAY_2</th>\n",
       "      <th>PAY_3</th>\n",
       "      <th>PAY_4</th>\n",
       "      <th>PAY_5</th>\n",
       "      <th>...</th>\n",
       "      <th>BILL_AMT3</th>\n",
       "      <th>BILL_AMT4</th>\n",
       "      <th>BILL_AMT5</th>\n",
       "      <th>BILL_AMT6</th>\n",
       "      <th>PAY_AMT1</th>\n",
       "      <th>PAY_AMT2</th>\n",
       "      <th>PAY_AMT3</th>\n",
       "      <th>PAY_AMT4</th>\n",
       "      <th>PAY_AMT5</th>\n",
       "      <th>PAY_AMT6</th>\n",
       "    </tr>\n",
       "    <tr>\n",
       "      <th>ID</th>\n",
       "      <th></th>\n",
       "      <th></th>\n",
       "      <th></th>\n",
       "      <th></th>\n",
       "      <th></th>\n",
       "      <th></th>\n",
       "      <th></th>\n",
       "      <th></th>\n",
       "      <th></th>\n",
       "      <th></th>\n",
       "      <th></th>\n",
       "      <th></th>\n",
       "      <th></th>\n",
       "      <th></th>\n",
       "      <th></th>\n",
       "      <th></th>\n",
       "      <th></th>\n",
       "      <th></th>\n",
       "      <th></th>\n",
       "      <th></th>\n",
       "      <th></th>\n",
       "    </tr>\n",
       "  </thead>\n",
       "  <tbody>\n",
       "    <tr>\n",
       "      <th>22501</th>\n",
       "      <td>180000</td>\n",
       "      <td>2</td>\n",
       "      <td>2</td>\n",
       "      <td>1</td>\n",
       "      <td>33</td>\n",
       "      <td>-1</td>\n",
       "      <td>-1</td>\n",
       "      <td>-1</td>\n",
       "      <td>-1</td>\n",
       "      <td>-1</td>\n",
       "      <td>...</td>\n",
       "      <td>1112</td>\n",
       "      <td>10383</td>\n",
       "      <td>1980</td>\n",
       "      <td>2672</td>\n",
       "      <td>0</td>\n",
       "      <td>1112</td>\n",
       "      <td>10383</td>\n",
       "      <td>1980</td>\n",
       "      <td>2672</td>\n",
       "      <td>2197</td>\n",
       "    </tr>\n",
       "    <tr>\n",
       "      <th>22502</th>\n",
       "      <td>230000</td>\n",
       "      <td>2</td>\n",
       "      <td>1</td>\n",
       "      <td>2</td>\n",
       "      <td>33</td>\n",
       "      <td>0</td>\n",
       "      <td>0</td>\n",
       "      <td>0</td>\n",
       "      <td>0</td>\n",
       "      <td>0</td>\n",
       "      <td>...</td>\n",
       "      <td>41354</td>\n",
       "      <td>42368</td>\n",
       "      <td>43161</td>\n",
       "      <td>45056</td>\n",
       "      <td>2000</td>\n",
       "      <td>2000</td>\n",
       "      <td>2000</td>\n",
       "      <td>1800</td>\n",
       "      <td>2600</td>\n",
       "      <td>2000</td>\n",
       "    </tr>\n",
       "    <tr>\n",
       "      <th>22503</th>\n",
       "      <td>50000</td>\n",
       "      <td>2</td>\n",
       "      <td>2</td>\n",
       "      <td>2</td>\n",
       "      <td>44</td>\n",
       "      <td>0</td>\n",
       "      <td>0</td>\n",
       "      <td>2</td>\n",
       "      <td>3</td>\n",
       "      <td>2</td>\n",
       "      <td>...</td>\n",
       "      <td>20857</td>\n",
       "      <td>20229</td>\n",
       "      <td>19623</td>\n",
       "      <td>19878</td>\n",
       "      <td>3155</td>\n",
       "      <td>2500</td>\n",
       "      <td>0</td>\n",
       "      <td>0</td>\n",
       "      <td>707</td>\n",
       "      <td>713</td>\n",
       "    </tr>\n",
       "    <tr>\n",
       "      <th>22504</th>\n",
       "      <td>260000</td>\n",
       "      <td>2</td>\n",
       "      <td>2</td>\n",
       "      <td>2</td>\n",
       "      <td>32</td>\n",
       "      <td>0</td>\n",
       "      <td>0</td>\n",
       "      <td>0</td>\n",
       "      <td>0</td>\n",
       "      <td>0</td>\n",
       "      <td>...</td>\n",
       "      <td>234260</td>\n",
       "      <td>227884</td>\n",
       "      <td>202178</td>\n",
       "      <td>198467</td>\n",
       "      <td>10000</td>\n",
       "      <td>9014</td>\n",
       "      <td>11002</td>\n",
       "      <td>7503</td>\n",
       "      <td>7502</td>\n",
       "      <td>7500</td>\n",
       "    </tr>\n",
       "    <tr>\n",
       "      <th>22505</th>\n",
       "      <td>260000</td>\n",
       "      <td>2</td>\n",
       "      <td>2</td>\n",
       "      <td>2</td>\n",
       "      <td>33</td>\n",
       "      <td>-1</td>\n",
       "      <td>-1</td>\n",
       "      <td>-1</td>\n",
       "      <td>-1</td>\n",
       "      <td>-1</td>\n",
       "      <td>...</td>\n",
       "      <td>28656</td>\n",
       "      <td>7497</td>\n",
       "      <td>7685</td>\n",
       "      <td>15434</td>\n",
       "      <td>13000</td>\n",
       "      <td>29022</td>\n",
       "      <td>7500</td>\n",
       "      <td>27769</td>\n",
       "      <td>12000</td>\n",
       "      <td>6200</td>\n",
       "    </tr>\n",
       "  </tbody>\n",
       "</table>\n",
       "<p>5 rows × 23 columns</p>\n",
       "</div>"
      ],
      "text/plain": [
       "       LIMIT_BAL  SEX  EDUCATION  MARRIAGE  AGE  PAY_0  PAY_2  PAY_3  PAY_4  \\\n",
       "ID                                                                            \n",
       "22501     180000    2          2         1   33     -1     -1     -1     -1   \n",
       "22502     230000    2          1         2   33      0      0      0      0   \n",
       "22503      50000    2          2         2   44      0      0      2      3   \n",
       "22504     260000    2          2         2   32      0      0      0      0   \n",
       "22505     260000    2          2         2   33     -1     -1     -1     -1   \n",
       "\n",
       "       PAY_5  ...  BILL_AMT3  BILL_AMT4  BILL_AMT5  BILL_AMT6  PAY_AMT1  \\\n",
       "ID            ...                                                         \n",
       "22501     -1  ...       1112      10383       1980       2672         0   \n",
       "22502      0  ...      41354      42368      43161      45056      2000   \n",
       "22503      2  ...      20857      20229      19623      19878      3155   \n",
       "22504      0  ...     234260     227884     202178     198467     10000   \n",
       "22505     -1  ...      28656       7497       7685      15434     13000   \n",
       "\n",
       "       PAY_AMT2  PAY_AMT3  PAY_AMT4  PAY_AMT5  PAY_AMT6  \n",
       "ID                                                       \n",
       "22501      1112     10383      1980      2672      2197  \n",
       "22502      2000      2000      1800      2600      2000  \n",
       "22503      2500         0         0       707       713  \n",
       "22504      9014     11002      7503      7502      7500  \n",
       "22505     29022      7500     27769     12000      6200  \n",
       "\n",
       "[5 rows x 23 columns]"
      ]
     },
     "execution_count": 125,
     "metadata": {},
     "output_type": "execute_result"
    }
   ],
   "source": [
    "test.head()"
   ]
  },
  {
   "cell_type": "markdown",
   "metadata": {},
   "source": [
    "#### Check for Null values in the datasets"
   ]
  },
  {
   "cell_type": "code",
   "execution_count": 126,
   "metadata": {},
   "outputs": [
    {
     "data": {
      "text/plain": [
       "(False, False)"
      ]
     },
     "execution_count": 126,
     "metadata": {},
     "output_type": "execute_result"
    }
   ],
   "source": [
    "\n",
    "train.isnull().values.any(),test.isnull().values.any()"
   ]
  },
  {
   "cell_type": "markdown",
   "metadata": {},
   "source": [
    "DataSets do not have any Null values\n"
   ]
  },
  {
   "cell_type": "markdown",
   "metadata": {},
   "source": [
    "### Combine Train and Test Data set for further analysis & preprocessing"
   ]
  },
  {
   "cell_type": "code",
   "execution_count": 127,
   "metadata": {},
   "outputs": [
    {
     "data": {
      "text/plain": [
       "(False, False)"
      ]
     },
     "execution_count": 127,
     "metadata": {},
     "output_type": "execute_result"
    }
   ],
   "source": [
    "train.isnull().values.any(),test.isnull().values.any()"
   ]
  },
  {
   "cell_type": "code",
   "execution_count": 128,
   "metadata": {},
   "outputs": [],
   "source": [
    "train['Type'] = 'Train'\n",
    "test['Type'] = 'Test'\n",
    "test['default payment next month']=0"
   ]
  },
  {
   "cell_type": "code",
   "execution_count": 129,
   "metadata": {},
   "outputs": [],
   "source": [
    "\n",
    "fulldata = pd.concat([train,test],axis=0) "
   ]
  },
  {
   "cell_type": "code",
   "execution_count": 130,
   "metadata": {},
   "outputs": [
    {
     "data": {
      "text/plain": [
       "False"
      ]
     },
     "execution_count": 130,
     "metadata": {},
     "output_type": "execute_result"
    }
   ],
   "source": [
    "fulldata.isnull().values.any()"
   ]
  },
  {
   "cell_type": "code",
   "execution_count": 131,
   "metadata": {},
   "outputs": [],
   "source": [
    "fulldata.rename(columns={'default payment next month':'DEFAULT'}, inplace=True)"
   ]
  },
  {
   "cell_type": "code",
   "execution_count": 132,
   "metadata": {},
   "outputs": [
    {
     "data": {
      "text/html": [
       "<div>\n",
       "<style scoped>\n",
       "    .dataframe tbody tr th:only-of-type {\n",
       "        vertical-align: middle;\n",
       "    }\n",
       "\n",
       "    .dataframe tbody tr th {\n",
       "        vertical-align: top;\n",
       "    }\n",
       "\n",
       "    .dataframe thead th {\n",
       "        text-align: right;\n",
       "    }\n",
       "</style>\n",
       "<table border=\"1\" class=\"dataframe\">\n",
       "  <thead>\n",
       "    <tr style=\"text-align: right;\">\n",
       "      <th></th>\n",
       "      <th>AGE</th>\n",
       "      <th>BILL_AMT1</th>\n",
       "      <th>BILL_AMT2</th>\n",
       "      <th>BILL_AMT3</th>\n",
       "      <th>BILL_AMT4</th>\n",
       "      <th>BILL_AMT5</th>\n",
       "      <th>BILL_AMT6</th>\n",
       "      <th>EDUCATION</th>\n",
       "      <th>LIMIT_BAL</th>\n",
       "      <th>MARRIAGE</th>\n",
       "      <th>...</th>\n",
       "      <th>PAY_6</th>\n",
       "      <th>PAY_AMT1</th>\n",
       "      <th>PAY_AMT2</th>\n",
       "      <th>PAY_AMT3</th>\n",
       "      <th>PAY_AMT4</th>\n",
       "      <th>PAY_AMT5</th>\n",
       "      <th>PAY_AMT6</th>\n",
       "      <th>SEX</th>\n",
       "      <th>Type</th>\n",
       "      <th>DEFAULT</th>\n",
       "    </tr>\n",
       "    <tr>\n",
       "      <th>ID</th>\n",
       "      <th></th>\n",
       "      <th></th>\n",
       "      <th></th>\n",
       "      <th></th>\n",
       "      <th></th>\n",
       "      <th></th>\n",
       "      <th></th>\n",
       "      <th></th>\n",
       "      <th></th>\n",
       "      <th></th>\n",
       "      <th></th>\n",
       "      <th></th>\n",
       "      <th></th>\n",
       "      <th></th>\n",
       "      <th></th>\n",
       "      <th></th>\n",
       "      <th></th>\n",
       "      <th></th>\n",
       "      <th></th>\n",
       "      <th></th>\n",
       "      <th></th>\n",
       "    </tr>\n",
       "  </thead>\n",
       "  <tbody>\n",
       "    <tr>\n",
       "      <th>1</th>\n",
       "      <td>24</td>\n",
       "      <td>3913</td>\n",
       "      <td>3102</td>\n",
       "      <td>689</td>\n",
       "      <td>0</td>\n",
       "      <td>0</td>\n",
       "      <td>0</td>\n",
       "      <td>2</td>\n",
       "      <td>20000</td>\n",
       "      <td>1</td>\n",
       "      <td>...</td>\n",
       "      <td>-2</td>\n",
       "      <td>0</td>\n",
       "      <td>689</td>\n",
       "      <td>0</td>\n",
       "      <td>0</td>\n",
       "      <td>0</td>\n",
       "      <td>0</td>\n",
       "      <td>2</td>\n",
       "      <td>Train</td>\n",
       "      <td>1</td>\n",
       "    </tr>\n",
       "    <tr>\n",
       "      <th>2</th>\n",
       "      <td>26</td>\n",
       "      <td>2682</td>\n",
       "      <td>1725</td>\n",
       "      <td>2682</td>\n",
       "      <td>3272</td>\n",
       "      <td>3455</td>\n",
       "      <td>3261</td>\n",
       "      <td>2</td>\n",
       "      <td>120000</td>\n",
       "      <td>2</td>\n",
       "      <td>...</td>\n",
       "      <td>2</td>\n",
       "      <td>0</td>\n",
       "      <td>1000</td>\n",
       "      <td>1000</td>\n",
       "      <td>1000</td>\n",
       "      <td>0</td>\n",
       "      <td>2000</td>\n",
       "      <td>2</td>\n",
       "      <td>Train</td>\n",
       "      <td>1</td>\n",
       "    </tr>\n",
       "    <tr>\n",
       "      <th>3</th>\n",
       "      <td>34</td>\n",
       "      <td>29239</td>\n",
       "      <td>14027</td>\n",
       "      <td>13559</td>\n",
       "      <td>14331</td>\n",
       "      <td>14948</td>\n",
       "      <td>15549</td>\n",
       "      <td>2</td>\n",
       "      <td>90000</td>\n",
       "      <td>2</td>\n",
       "      <td>...</td>\n",
       "      <td>0</td>\n",
       "      <td>1518</td>\n",
       "      <td>1500</td>\n",
       "      <td>1000</td>\n",
       "      <td>1000</td>\n",
       "      <td>1000</td>\n",
       "      <td>5000</td>\n",
       "      <td>2</td>\n",
       "      <td>Train</td>\n",
       "      <td>0</td>\n",
       "    </tr>\n",
       "    <tr>\n",
       "      <th>4</th>\n",
       "      <td>37</td>\n",
       "      <td>46990</td>\n",
       "      <td>48233</td>\n",
       "      <td>49291</td>\n",
       "      <td>28314</td>\n",
       "      <td>28959</td>\n",
       "      <td>29547</td>\n",
       "      <td>2</td>\n",
       "      <td>50000</td>\n",
       "      <td>1</td>\n",
       "      <td>...</td>\n",
       "      <td>0</td>\n",
       "      <td>2000</td>\n",
       "      <td>2019</td>\n",
       "      <td>1200</td>\n",
       "      <td>1100</td>\n",
       "      <td>1069</td>\n",
       "      <td>1000</td>\n",
       "      <td>2</td>\n",
       "      <td>Train</td>\n",
       "      <td>0</td>\n",
       "    </tr>\n",
       "    <tr>\n",
       "      <th>5</th>\n",
       "      <td>57</td>\n",
       "      <td>8617</td>\n",
       "      <td>5670</td>\n",
       "      <td>35835</td>\n",
       "      <td>20940</td>\n",
       "      <td>19146</td>\n",
       "      <td>19131</td>\n",
       "      <td>2</td>\n",
       "      <td>50000</td>\n",
       "      <td>1</td>\n",
       "      <td>...</td>\n",
       "      <td>0</td>\n",
       "      <td>2000</td>\n",
       "      <td>36681</td>\n",
       "      <td>10000</td>\n",
       "      <td>9000</td>\n",
       "      <td>689</td>\n",
       "      <td>679</td>\n",
       "      <td>1</td>\n",
       "      <td>Train</td>\n",
       "      <td>0</td>\n",
       "    </tr>\n",
       "  </tbody>\n",
       "</table>\n",
       "<p>5 rows × 25 columns</p>\n",
       "</div>"
      ],
      "text/plain": [
       "    AGE  BILL_AMT1  BILL_AMT2  BILL_AMT3  BILL_AMT4  BILL_AMT5  BILL_AMT6  \\\n",
       "ID                                                                          \n",
       "1    24       3913       3102        689          0          0          0   \n",
       "2    26       2682       1725       2682       3272       3455       3261   \n",
       "3    34      29239      14027      13559      14331      14948      15549   \n",
       "4    37      46990      48233      49291      28314      28959      29547   \n",
       "5    57       8617       5670      35835      20940      19146      19131   \n",
       "\n",
       "    EDUCATION  LIMIT_BAL  MARRIAGE  ...  PAY_6  PAY_AMT1  PAY_AMT2  PAY_AMT3  \\\n",
       "ID                                  ...                                        \n",
       "1           2      20000         1  ...     -2         0       689         0   \n",
       "2           2     120000         2  ...      2         0      1000      1000   \n",
       "3           2      90000         2  ...      0      1518      1500      1000   \n",
       "4           2      50000         1  ...      0      2000      2019      1200   \n",
       "5           2      50000         1  ...      0      2000     36681     10000   \n",
       "\n",
       "    PAY_AMT4  PAY_AMT5  PAY_AMT6  SEX   Type  DEFAULT  \n",
       "ID                                                     \n",
       "1          0         0         0    2  Train        1  \n",
       "2       1000         0      2000    2  Train        1  \n",
       "3       1000      1000      5000    2  Train        0  \n",
       "4       1100      1069      1000    2  Train        0  \n",
       "5       9000       689       679    1  Train        0  \n",
       "\n",
       "[5 rows x 25 columns]"
      ]
     },
     "execution_count": 132,
     "metadata": {},
     "output_type": "execute_result"
    }
   ],
   "source": [
    "fulldata.head()"
   ]
  },
  {
   "cell_type": "code",
   "execution_count": 133,
   "metadata": {},
   "outputs": [
    {
     "data": {
      "text/html": [
       "<div>\n",
       "<style scoped>\n",
       "    .dataframe tbody tr th:only-of-type {\n",
       "        vertical-align: middle;\n",
       "    }\n",
       "\n",
       "    .dataframe tbody tr th {\n",
       "        vertical-align: top;\n",
       "    }\n",
       "\n",
       "    .dataframe thead th {\n",
       "        text-align: right;\n",
       "    }\n",
       "</style>\n",
       "<table border=\"1\" class=\"dataframe\">\n",
       "  <thead>\n",
       "    <tr style=\"text-align: right;\">\n",
       "      <th></th>\n",
       "      <th>AGE</th>\n",
       "      <th>BILL_AMT1</th>\n",
       "      <th>BILL_AMT2</th>\n",
       "      <th>BILL_AMT3</th>\n",
       "      <th>BILL_AMT4</th>\n",
       "      <th>BILL_AMT5</th>\n",
       "      <th>BILL_AMT6</th>\n",
       "      <th>EDUCATION</th>\n",
       "      <th>LIMIT_BAL</th>\n",
       "      <th>MARRIAGE</th>\n",
       "      <th>...</th>\n",
       "      <th>PAY_5</th>\n",
       "      <th>PAY_6</th>\n",
       "      <th>PAY_AMT1</th>\n",
       "      <th>PAY_AMT2</th>\n",
       "      <th>PAY_AMT3</th>\n",
       "      <th>PAY_AMT4</th>\n",
       "      <th>PAY_AMT5</th>\n",
       "      <th>PAY_AMT6</th>\n",
       "      <th>SEX</th>\n",
       "      <th>DEFAULT</th>\n",
       "    </tr>\n",
       "  </thead>\n",
       "  <tbody>\n",
       "    <tr>\n",
       "      <th>count</th>\n",
       "      <td>30000.000000</td>\n",
       "      <td>30000.000000</td>\n",
       "      <td>30000.000000</td>\n",
       "      <td>3.000000e+04</td>\n",
       "      <td>30000.000000</td>\n",
       "      <td>30000.000000</td>\n",
       "      <td>30000.000000</td>\n",
       "      <td>30000.000000</td>\n",
       "      <td>30000.000000</td>\n",
       "      <td>30000.000000</td>\n",
       "      <td>...</td>\n",
       "      <td>30000.000000</td>\n",
       "      <td>30000.000000</td>\n",
       "      <td>30000.000000</td>\n",
       "      <td>3.000000e+04</td>\n",
       "      <td>30000.00000</td>\n",
       "      <td>30000.000000</td>\n",
       "      <td>30000.000000</td>\n",
       "      <td>30000.000000</td>\n",
       "      <td>30000.000000</td>\n",
       "      <td>30000.000000</td>\n",
       "    </tr>\n",
       "    <tr>\n",
       "      <th>mean</th>\n",
       "      <td>35.485500</td>\n",
       "      <td>51223.330900</td>\n",
       "      <td>49179.075167</td>\n",
       "      <td>4.701315e+04</td>\n",
       "      <td>43262.948967</td>\n",
       "      <td>40311.400967</td>\n",
       "      <td>38871.760400</td>\n",
       "      <td>1.853133</td>\n",
       "      <td>167484.322667</td>\n",
       "      <td>1.551867</td>\n",
       "      <td>...</td>\n",
       "      <td>-0.266200</td>\n",
       "      <td>-0.291100</td>\n",
       "      <td>5663.580500</td>\n",
       "      <td>5.921163e+03</td>\n",
       "      <td>5225.68150</td>\n",
       "      <td>4826.076867</td>\n",
       "      <td>4799.387633</td>\n",
       "      <td>5215.502567</td>\n",
       "      <td>1.603733</td>\n",
       "      <td>0.169600</td>\n",
       "    </tr>\n",
       "    <tr>\n",
       "      <th>std</th>\n",
       "      <td>9.217904</td>\n",
       "      <td>73635.860576</td>\n",
       "      <td>71173.768783</td>\n",
       "      <td>6.934939e+04</td>\n",
       "      <td>64332.856134</td>\n",
       "      <td>60797.155770</td>\n",
       "      <td>59554.107537</td>\n",
       "      <td>0.790349</td>\n",
       "      <td>129747.661567</td>\n",
       "      <td>0.521970</td>\n",
       "      <td>...</td>\n",
       "      <td>1.133187</td>\n",
       "      <td>1.149988</td>\n",
       "      <td>16563.280354</td>\n",
       "      <td>2.304087e+04</td>\n",
       "      <td>17606.96147</td>\n",
       "      <td>15666.159744</td>\n",
       "      <td>15278.305679</td>\n",
       "      <td>17777.465775</td>\n",
       "      <td>0.489129</td>\n",
       "      <td>0.375287</td>\n",
       "    </tr>\n",
       "    <tr>\n",
       "      <th>min</th>\n",
       "      <td>21.000000</td>\n",
       "      <td>-165580.000000</td>\n",
       "      <td>-69777.000000</td>\n",
       "      <td>-1.572640e+05</td>\n",
       "      <td>-170000.000000</td>\n",
       "      <td>-81334.000000</td>\n",
       "      <td>-339603.000000</td>\n",
       "      <td>0.000000</td>\n",
       "      <td>10000.000000</td>\n",
       "      <td>0.000000</td>\n",
       "      <td>...</td>\n",
       "      <td>-2.000000</td>\n",
       "      <td>-2.000000</td>\n",
       "      <td>0.000000</td>\n",
       "      <td>0.000000e+00</td>\n",
       "      <td>0.00000</td>\n",
       "      <td>0.000000</td>\n",
       "      <td>0.000000</td>\n",
       "      <td>0.000000</td>\n",
       "      <td>1.000000</td>\n",
       "      <td>0.000000</td>\n",
       "    </tr>\n",
       "    <tr>\n",
       "      <th>25%</th>\n",
       "      <td>28.000000</td>\n",
       "      <td>3558.750000</td>\n",
       "      <td>2984.750000</td>\n",
       "      <td>2.666250e+03</td>\n",
       "      <td>2326.750000</td>\n",
       "      <td>1763.000000</td>\n",
       "      <td>1256.000000</td>\n",
       "      <td>1.000000</td>\n",
       "      <td>50000.000000</td>\n",
       "      <td>1.000000</td>\n",
       "      <td>...</td>\n",
       "      <td>-1.000000</td>\n",
       "      <td>-1.000000</td>\n",
       "      <td>1000.000000</td>\n",
       "      <td>8.330000e+02</td>\n",
       "      <td>390.00000</td>\n",
       "      <td>296.000000</td>\n",
       "      <td>252.500000</td>\n",
       "      <td>117.750000</td>\n",
       "      <td>1.000000</td>\n",
       "      <td>0.000000</td>\n",
       "    </tr>\n",
       "    <tr>\n",
       "      <th>50%</th>\n",
       "      <td>34.000000</td>\n",
       "      <td>22381.500000</td>\n",
       "      <td>21200.000000</td>\n",
       "      <td>2.008850e+04</td>\n",
       "      <td>19052.000000</td>\n",
       "      <td>18104.500000</td>\n",
       "      <td>17071.000000</td>\n",
       "      <td>2.000000</td>\n",
       "      <td>140000.000000</td>\n",
       "      <td>2.000000</td>\n",
       "      <td>...</td>\n",
       "      <td>0.000000</td>\n",
       "      <td>0.000000</td>\n",
       "      <td>2100.000000</td>\n",
       "      <td>2.009000e+03</td>\n",
       "      <td>1800.00000</td>\n",
       "      <td>1500.000000</td>\n",
       "      <td>1500.000000</td>\n",
       "      <td>1500.000000</td>\n",
       "      <td>2.000000</td>\n",
       "      <td>0.000000</td>\n",
       "    </tr>\n",
       "    <tr>\n",
       "      <th>75%</th>\n",
       "      <td>41.000000</td>\n",
       "      <td>67091.000000</td>\n",
       "      <td>64006.250000</td>\n",
       "      <td>6.016475e+04</td>\n",
       "      <td>54506.000000</td>\n",
       "      <td>50190.500000</td>\n",
       "      <td>49198.250000</td>\n",
       "      <td>2.000000</td>\n",
       "      <td>240000.000000</td>\n",
       "      <td>2.000000</td>\n",
       "      <td>...</td>\n",
       "      <td>0.000000</td>\n",
       "      <td>0.000000</td>\n",
       "      <td>5006.000000</td>\n",
       "      <td>5.000000e+03</td>\n",
       "      <td>4505.00000</td>\n",
       "      <td>4013.250000</td>\n",
       "      <td>4031.500000</td>\n",
       "      <td>4000.000000</td>\n",
       "      <td>2.000000</td>\n",
       "      <td>0.000000</td>\n",
       "    </tr>\n",
       "    <tr>\n",
       "      <th>max</th>\n",
       "      <td>79.000000</td>\n",
       "      <td>964511.000000</td>\n",
       "      <td>983931.000000</td>\n",
       "      <td>1.664089e+06</td>\n",
       "      <td>891586.000000</td>\n",
       "      <td>927171.000000</td>\n",
       "      <td>961664.000000</td>\n",
       "      <td>6.000000</td>\n",
       "      <td>1000000.000000</td>\n",
       "      <td>3.000000</td>\n",
       "      <td>...</td>\n",
       "      <td>8.000000</td>\n",
       "      <td>8.000000</td>\n",
       "      <td>873552.000000</td>\n",
       "      <td>1.684259e+06</td>\n",
       "      <td>896040.00000</td>\n",
       "      <td>621000.000000</td>\n",
       "      <td>426529.000000</td>\n",
       "      <td>528666.000000</td>\n",
       "      <td>2.000000</td>\n",
       "      <td>1.000000</td>\n",
       "    </tr>\n",
       "  </tbody>\n",
       "</table>\n",
       "<p>8 rows × 24 columns</p>\n",
       "</div>"
      ],
      "text/plain": [
       "                AGE      BILL_AMT1      BILL_AMT2     BILL_AMT3  \\\n",
       "count  30000.000000   30000.000000   30000.000000  3.000000e+04   \n",
       "mean      35.485500   51223.330900   49179.075167  4.701315e+04   \n",
       "std        9.217904   73635.860576   71173.768783  6.934939e+04   \n",
       "min       21.000000 -165580.000000  -69777.000000 -1.572640e+05   \n",
       "25%       28.000000    3558.750000    2984.750000  2.666250e+03   \n",
       "50%       34.000000   22381.500000   21200.000000  2.008850e+04   \n",
       "75%       41.000000   67091.000000   64006.250000  6.016475e+04   \n",
       "max       79.000000  964511.000000  983931.000000  1.664089e+06   \n",
       "\n",
       "           BILL_AMT4      BILL_AMT5      BILL_AMT6     EDUCATION  \\\n",
       "count   30000.000000   30000.000000   30000.000000  30000.000000   \n",
       "mean    43262.948967   40311.400967   38871.760400      1.853133   \n",
       "std     64332.856134   60797.155770   59554.107537      0.790349   \n",
       "min   -170000.000000  -81334.000000 -339603.000000      0.000000   \n",
       "25%      2326.750000    1763.000000    1256.000000      1.000000   \n",
       "50%     19052.000000   18104.500000   17071.000000      2.000000   \n",
       "75%     54506.000000   50190.500000   49198.250000      2.000000   \n",
       "max    891586.000000  927171.000000  961664.000000      6.000000   \n",
       "\n",
       "            LIMIT_BAL      MARRIAGE  ...         PAY_5         PAY_6  \\\n",
       "count    30000.000000  30000.000000  ...  30000.000000  30000.000000   \n",
       "mean    167484.322667      1.551867  ...     -0.266200     -0.291100   \n",
       "std     129747.661567      0.521970  ...      1.133187      1.149988   \n",
       "min      10000.000000      0.000000  ...     -2.000000     -2.000000   \n",
       "25%      50000.000000      1.000000  ...     -1.000000     -1.000000   \n",
       "50%     140000.000000      2.000000  ...      0.000000      0.000000   \n",
       "75%     240000.000000      2.000000  ...      0.000000      0.000000   \n",
       "max    1000000.000000      3.000000  ...      8.000000      8.000000   \n",
       "\n",
       "            PAY_AMT1      PAY_AMT2      PAY_AMT3       PAY_AMT4  \\\n",
       "count   30000.000000  3.000000e+04   30000.00000   30000.000000   \n",
       "mean     5663.580500  5.921163e+03    5225.68150    4826.076867   \n",
       "std     16563.280354  2.304087e+04   17606.96147   15666.159744   \n",
       "min         0.000000  0.000000e+00       0.00000       0.000000   \n",
       "25%      1000.000000  8.330000e+02     390.00000     296.000000   \n",
       "50%      2100.000000  2.009000e+03    1800.00000    1500.000000   \n",
       "75%      5006.000000  5.000000e+03    4505.00000    4013.250000   \n",
       "max    873552.000000  1.684259e+06  896040.00000  621000.000000   \n",
       "\n",
       "            PAY_AMT5       PAY_AMT6           SEX       DEFAULT  \n",
       "count   30000.000000   30000.000000  30000.000000  30000.000000  \n",
       "mean     4799.387633    5215.502567      1.603733      0.169600  \n",
       "std     15278.305679   17777.465775      0.489129      0.375287  \n",
       "min         0.000000       0.000000      1.000000      0.000000  \n",
       "25%       252.500000     117.750000      1.000000      0.000000  \n",
       "50%      1500.000000    1500.000000      2.000000      0.000000  \n",
       "75%      4031.500000    4000.000000      2.000000      0.000000  \n",
       "max    426529.000000  528666.000000      2.000000      1.000000  \n",
       "\n",
       "[8 rows x 24 columns]"
      ]
     },
     "execution_count": 133,
     "metadata": {},
     "output_type": "execute_result"
    }
   ],
   "source": [
    "fulldata.describe()"
   ]
  },
  {
   "cell_type": "markdown",
   "metadata": {},
   "source": [
    "    From Above Table we can deduce that some columns have extra values which might not be correct According to the Description given i.e.\n",
    "                EDUCATION has 7 unique values instead of 4\n",
    "                MARRIAGE has 4 unique values instead of 3"
   ]
  },
  {
   "cell_type": "code",
   "execution_count": 134,
   "metadata": {},
   "outputs": [
    {
     "data": {
      "text/plain": [
       "2    14030\n",
       "1    10585\n",
       "3     4917\n",
       "5      280\n",
       "4      123\n",
       "6       51\n",
       "0       14\n",
       "Name: EDUCATION, dtype: int64"
      ]
     },
     "execution_count": 134,
     "metadata": {},
     "output_type": "execute_result"
    }
   ],
   "source": [
    "fulldata.EDUCATION.value_counts()\n"
   ]
  },
  {
   "cell_type": "markdown",
   "metadata": {},
   "source": [
    "According to description we should have values 1,2,3,4 thus we will change 5,6,0 to 4 i.e. others"
   ]
  },
  {
   "cell_type": "code",
   "execution_count": 135,
   "metadata": {},
   "outputs": [
    {
     "data": {
      "text/plain": [
       "array([2, 1, 3, 5, 4, 6, 0], dtype=int64)"
      ]
     },
     "execution_count": 135,
     "metadata": {},
     "output_type": "execute_result"
    }
   ],
   "source": [
    "fulldata.EDUCATION[fulldata.EDUCATION=='0']='4'\n",
    "fulldata.EDUCATION[fulldata.EDUCATION=='5']='4'\n",
    "fulldata.EDUCATION[fulldata.EDUCATION=='6']='4'\n",
    "fulldata.EDUCATION.unique()"
   ]
  },
  {
   "cell_type": "code",
   "execution_count": 136,
   "metadata": {},
   "outputs": [
    {
     "data": {
      "text/plain": [
       "2    15964\n",
       "1    13659\n",
       "3      323\n",
       "0       54\n",
       "Name: MARRIAGE, dtype: int64"
      ]
     },
     "execution_count": 136,
     "metadata": {},
     "output_type": "execute_result"
    }
   ],
   "source": [
    "fulldata.MARRIAGE.value_counts()"
   ]
  },
  {
   "cell_type": "markdown",
   "metadata": {},
   "source": [
    "According to description we should have values 1,2,3 thus we will change 0 to 3 i.e. others"
   ]
  },
  {
   "cell_type": "code",
   "execution_count": 137,
   "metadata": {},
   "outputs": [
    {
     "data": {
      "text/plain": [
       "array([1, 2, 3, 0], dtype=int64)"
      ]
     },
     "execution_count": 137,
     "metadata": {},
     "output_type": "execute_result"
    }
   ],
   "source": [
    "fulldata.MARRIAGE[fulldata.MARRIAGE=='0']='3'\n",
    "fulldata.MARRIAGE.unique()"
   ]
  },
  {
   "cell_type": "code",
   "execution_count": 138,
   "metadata": {},
   "outputs": [
    {
     "data": {
      "text/plain": [
       "array([2, 1], dtype=int64)"
      ]
     },
     "execution_count": 138,
     "metadata": {},
     "output_type": "execute_result"
    }
   ],
   "source": [
    "fulldata.SEX.unique()"
   ]
  },
  {
   "cell_type": "code",
   "execution_count": 139,
   "metadata": {},
   "outputs": [
    {
     "data": {
      "text/plain": [
       "(0, 0)"
      ]
     },
     "execution_count": 139,
     "metadata": {},
     "output_type": "execute_result"
    }
   ],
   "source": [
    "# Check for values less than 0\n",
    "(fulldata.AGE[fulldata.AGE<0].count(),\n",
    "fulldata.LIMIT_BAL[fulldata.LIMIT_BAL<0].count())"
   ]
  },
  {
   "cell_type": "code",
   "execution_count": 140,
   "metadata": {},
   "outputs": [],
   "source": [
    "# Split back the combined data to train & test\n",
    "train=fulldata[fulldata['Type']=='Train']\n",
    "test=fulldata[fulldata['Type']=='Test']"
   ]
  },
  {
   "cell_type": "code",
   "execution_count": 141,
   "metadata": {},
   "outputs": [],
   "source": [
    "# drop the non numeric column\n",
    "train.drop(['Type'],axis = 1, inplace=True)\n",
    "test.drop(['Type'],axis = 1, inplace=True)\n",
    "\n",
    "# Change variables to type float\n",
    "train = train.astype(float)\n",
    "test = test.astype(float)"
   ]
  },
  {
   "cell_type": "markdown",
   "metadata": {},
   "source": [
    "## 2. Exploratory Data Analysis and Visualization"
   ]
  },
  {
   "cell_type": "code",
   "execution_count": 143,
   "metadata": {},
   "outputs": [
    {
     "data": {
      "text/plain": [
       "22.613333333333333"
      ]
     },
     "execution_count": 143,
     "metadata": {},
     "output_type": "execute_result"
    }
   ],
   "source": [
    "train.DEFAULT.mean()*100"
   ]
  },
  {
   "cell_type": "markdown",
   "metadata": {},
   "source": [
    "22.61 % of people are defaulters in the Train data"
   ]
  },
  {
   "cell_type": "markdown",
   "metadata": {},
   "source": [
    "    Visualize Data with t-SNE\n",
    "t-SNE is a technique for dimensionality reduction that is well suited to visualise high-dimensional datasets. Lets have a first look on the map that will set some expectations for the prediction accuracy i.e. if our dataset has many overlaps it would be good if our model achieves an accuracy of 60-70%.!"
   ]
  },
  {
   "cell_type": "code",
   "execution_count": 144,
   "metadata": {},
   "outputs": [
    {
     "data": {
      "text/html": [
       "<div>\n",
       "<style scoped>\n",
       "    .dataframe tbody tr th:only-of-type {\n",
       "        vertical-align: middle;\n",
       "    }\n",
       "\n",
       "    .dataframe tbody tr th {\n",
       "        vertical-align: top;\n",
       "    }\n",
       "\n",
       "    .dataframe thead th {\n",
       "        text-align: right;\n",
       "    }\n",
       "</style>\n",
       "<table border=\"1\" class=\"dataframe\">\n",
       "  <thead>\n",
       "    <tr style=\"text-align: right;\">\n",
       "      <th></th>\n",
       "      <th>AGE</th>\n",
       "      <th>BILL_AMT1</th>\n",
       "      <th>BILL_AMT2</th>\n",
       "      <th>BILL_AMT3</th>\n",
       "      <th>BILL_AMT4</th>\n",
       "      <th>BILL_AMT5</th>\n",
       "      <th>BILL_AMT6</th>\n",
       "      <th>BILL_AMT_APR_2005</th>\n",
       "      <th>BILL_AMT_AUG_2005</th>\n",
       "      <th>BILL_AMT_JULY_2005</th>\n",
       "      <th>...</th>\n",
       "      <th>PAY_AMT5</th>\n",
       "      <th>PAY_AMT6</th>\n",
       "      <th>PAY_AMT_APR_2005</th>\n",
       "      <th>PAY_AMT_AUG_2005</th>\n",
       "      <th>PAY_AMT_JULY_2005</th>\n",
       "      <th>PAY_AMT_JUN_2005</th>\n",
       "      <th>PAY_AMT_MAY_2005</th>\n",
       "      <th>PAY_AMT_SEPT_2005</th>\n",
       "      <th>SEX</th>\n",
       "      <th>DEFAULTER</th>\n",
       "    </tr>\n",
       "    <tr>\n",
       "      <th>ID</th>\n",
       "      <th></th>\n",
       "      <th></th>\n",
       "      <th></th>\n",
       "      <th></th>\n",
       "      <th></th>\n",
       "      <th></th>\n",
       "      <th></th>\n",
       "      <th></th>\n",
       "      <th></th>\n",
       "      <th></th>\n",
       "      <th></th>\n",
       "      <th></th>\n",
       "      <th></th>\n",
       "      <th></th>\n",
       "      <th></th>\n",
       "      <th></th>\n",
       "      <th></th>\n",
       "      <th></th>\n",
       "      <th></th>\n",
       "      <th></th>\n",
       "      <th></th>\n",
       "    </tr>\n",
       "  </thead>\n",
       "  <tbody>\n",
       "    <tr>\n",
       "      <th>830</th>\n",
       "      <td>48.0</td>\n",
       "      <td>20944.0</td>\n",
       "      <td>4696.0</td>\n",
       "      <td>47225.0</td>\n",
       "      <td>16483.0</td>\n",
       "      <td>9343.0</td>\n",
       "      <td>9693.0</td>\n",
       "      <td>NaN</td>\n",
       "      <td>NaN</td>\n",
       "      <td>NaN</td>\n",
       "      <td>...</td>\n",
       "      <td>500.0</td>\n",
       "      <td>503.0</td>\n",
       "      <td>NaN</td>\n",
       "      <td>NaN</td>\n",
       "      <td>NaN</td>\n",
       "      <td>NaN</td>\n",
       "      <td>NaN</td>\n",
       "      <td>NaN</td>\n",
       "      <td>2.0</td>\n",
       "      <td>0.0</td>\n",
       "    </tr>\n",
       "    <tr>\n",
       "      <th>16767</th>\n",
       "      <td>34.0</td>\n",
       "      <td>8603.0</td>\n",
       "      <td>7757.0</td>\n",
       "      <td>8742.0</td>\n",
       "      <td>6041.0</td>\n",
       "      <td>5383.0</td>\n",
       "      <td>0.0</td>\n",
       "      <td>NaN</td>\n",
       "      <td>NaN</td>\n",
       "      <td>NaN</td>\n",
       "      <td>...</td>\n",
       "      <td>0.0</td>\n",
       "      <td>0.0</td>\n",
       "      <td>NaN</td>\n",
       "      <td>NaN</td>\n",
       "      <td>NaN</td>\n",
       "      <td>NaN</td>\n",
       "      <td>NaN</td>\n",
       "      <td>NaN</td>\n",
       "      <td>1.0</td>\n",
       "      <td>0.0</td>\n",
       "    </tr>\n",
       "    <tr>\n",
       "      <th>10426</th>\n",
       "      <td>50.0</td>\n",
       "      <td>612.0</td>\n",
       "      <td>10612.0</td>\n",
       "      <td>2225.0</td>\n",
       "      <td>4782.0</td>\n",
       "      <td>416.0</td>\n",
       "      <td>12287.0</td>\n",
       "      <td>NaN</td>\n",
       "      <td>NaN</td>\n",
       "      <td>NaN</td>\n",
       "      <td>...</td>\n",
       "      <td>12287.0</td>\n",
       "      <td>416.0</td>\n",
       "      <td>NaN</td>\n",
       "      <td>NaN</td>\n",
       "      <td>NaN</td>\n",
       "      <td>NaN</td>\n",
       "      <td>NaN</td>\n",
       "      <td>NaN</td>\n",
       "      <td>2.0</td>\n",
       "      <td>0.0</td>\n",
       "    </tr>\n",
       "    <tr>\n",
       "      <th>14380</th>\n",
       "      <td>35.0</td>\n",
       "      <td>38486.0</td>\n",
       "      <td>39217.0</td>\n",
       "      <td>40537.0</td>\n",
       "      <td>41030.0</td>\n",
       "      <td>41891.0</td>\n",
       "      <td>43196.0</td>\n",
       "      <td>NaN</td>\n",
       "      <td>NaN</td>\n",
       "      <td>NaN</td>\n",
       "      <td>...</td>\n",
       "      <td>2000.0</td>\n",
       "      <td>1592.0</td>\n",
       "      <td>NaN</td>\n",
       "      <td>NaN</td>\n",
       "      <td>NaN</td>\n",
       "      <td>NaN</td>\n",
       "      <td>NaN</td>\n",
       "      <td>NaN</td>\n",
       "      <td>1.0</td>\n",
       "      <td>0.0</td>\n",
       "    </tr>\n",
       "    <tr>\n",
       "      <th>8323</th>\n",
       "      <td>28.0</td>\n",
       "      <td>2162.0</td>\n",
       "      <td>61.0</td>\n",
       "      <td>259323.0</td>\n",
       "      <td>139861.0</td>\n",
       "      <td>1684.0</td>\n",
       "      <td>826.0</td>\n",
       "      <td>NaN</td>\n",
       "      <td>NaN</td>\n",
       "      <td>NaN</td>\n",
       "      <td>...</td>\n",
       "      <td>826.0</td>\n",
       "      <td>1793.0</td>\n",
       "      <td>NaN</td>\n",
       "      <td>NaN</td>\n",
       "      <td>NaN</td>\n",
       "      <td>NaN</td>\n",
       "      <td>NaN</td>\n",
       "      <td>NaN</td>\n",
       "      <td>2.0</td>\n",
       "      <td>0.0</td>\n",
       "    </tr>\n",
       "  </tbody>\n",
       "</table>\n",
       "<p>5 rows × 36 columns</p>\n",
       "</div>"
      ],
      "text/plain": [
       "        AGE  BILL_AMT1  BILL_AMT2  BILL_AMT3  BILL_AMT4  BILL_AMT5  BILL_AMT6  \\\n",
       "ID                                                                              \n",
       "830    48.0    20944.0     4696.0    47225.0    16483.0     9343.0     9693.0   \n",
       "16767  34.0     8603.0     7757.0     8742.0     6041.0     5383.0        0.0   \n",
       "10426  50.0      612.0    10612.0     2225.0     4782.0      416.0    12287.0   \n",
       "14380  35.0    38486.0    39217.0    40537.0    41030.0    41891.0    43196.0   \n",
       "8323   28.0     2162.0       61.0   259323.0   139861.0     1684.0      826.0   \n",
       "\n",
       "       BILL_AMT_APR_2005  BILL_AMT_AUG_2005  BILL_AMT_JULY_2005  ...  \\\n",
       "ID                                                               ...   \n",
       "830                  NaN                NaN                 NaN  ...   \n",
       "16767                NaN                NaN                 NaN  ...   \n",
       "10426                NaN                NaN                 NaN  ...   \n",
       "14380                NaN                NaN                 NaN  ...   \n",
       "8323                 NaN                NaN                 NaN  ...   \n",
       "\n",
       "       PAY_AMT5  PAY_AMT6  PAY_AMT_APR_2005  PAY_AMT_AUG_2005  \\\n",
       "ID                                                              \n",
       "830       500.0     503.0               NaN               NaN   \n",
       "16767       0.0       0.0               NaN               NaN   \n",
       "10426   12287.0     416.0               NaN               NaN   \n",
       "14380    2000.0    1592.0               NaN               NaN   \n",
       "8323      826.0    1793.0               NaN               NaN   \n",
       "\n",
       "       PAY_AMT_JULY_2005  PAY_AMT_JUN_2005  PAY_AMT_MAY_2005  \\\n",
       "ID                                                             \n",
       "830                  NaN               NaN               NaN   \n",
       "16767                NaN               NaN               NaN   \n",
       "10426                NaN               NaN               NaN   \n",
       "14380                NaN               NaN               NaN   \n",
       "8323                 NaN               NaN               NaN   \n",
       "\n",
       "       PAY_AMT_SEPT_2005  SEX  DEFAULTER  \n",
       "ID                                        \n",
       "830                  NaN  2.0        0.0  \n",
       "16767                NaN  1.0        0.0  \n",
       "10426                NaN  2.0        0.0  \n",
       "14380                NaN  1.0        0.0  \n",
       "8323                 NaN  2.0        0.0  \n",
       "\n",
       "[5 rows x 36 columns]"
      ]
     },
     "execution_count": 144,
     "metadata": {},
     "output_type": "execute_result"
    }
   ],
   "source": [
    "df4.head()"
   ]
  },
  {
   "cell_type": "code",
   "execution_count": 147,
   "metadata": {},
   "outputs": [
    {
     "data": {
      "image/png": "[encoded data removed]",
      "text/plain": [
       "<Figure size 432x288 with 1 Axes>"
      ]
     },
     "metadata": {
      "needs_background": "light"
     },
     "output_type": "display_data"
    }
   ],
   "source": [
    "#Set df4 equal to a set of a sample of 1000 deafault and 1000 non-default observations.\n",
    "df2 = train[train.DEFAULT == 0].sample(n = 1000)\n",
    "df3 = train[train.DEFAULT == 1].sample(n = 1000)\n",
    "df4 = pd.concat([df2, df3], axis = 0)\n",
    "\n",
    "#Scale features to improve the training ability of TSNE.\n",
    "standard_scaler = StandardScaler()\n",
    "df4_std = standard_scaler.fit_transform(df4)\n",
    "\n",
    "#Set y equal to the target values.\n",
    "y = df4.DEFAULT\n",
    "\n",
    "tsne = TSNE(n_components=2, random_state=0)\n",
    "x_test_2d = tsne.fit_transform(df4_std)\n",
    "\n",
    "#Build the scatter plot with the two types of transactions.\n",
    "color_map = {0:'red', 1:'blue'}\n",
    "plt.figure()\n",
    "for idx, cl in enumerate(np.unique(y)):\n",
    "    plt.scatter(x = x_test_2d[y==cl,0], y = x_test_2d[y==cl,1], c = color_map[idx], label = cl)\n",
    "plt.xlabel('X in t-SNE')\n",
    "plt.ylabel('Y in t-SNE')\n",
    "plt.legend(loc='upper right')\n",
    "plt.title('t-SNE visualization of train data')\n",
    "plt.show()"
   ]
  },
  {
   "cell_type": "markdown",
   "metadata": {},
   "source": [
    "The plot reveals a rather mixed up dataset which means we should not expect very accurate model.\n",
    "\n"
   ]
  },
  {
   "cell_type": "markdown",
   "metadata": {},
   "source": [
    "Now let us check the correlation between different features"
   ]
  },
  {
   "cell_type": "code",
   "execution_count": 148,
   "metadata": {},
   "outputs": [
    {
     "data": {
      "text/plain": [
       "<matplotlib.axes._subplots.AxesSubplot at 0x243dd43a320>"
      ]
     },
     "execution_count": 148,
     "metadata": {},
     "output_type": "execute_result"
    },
    {
     "data": {
      "image/png": "[encoded data removed]",
      "text/plain": [
       "<Figure size 1296x1296 with 2 Axes>"
      ]
     },
     "metadata": {
      "needs_background": "light"
     },
     "output_type": "display_data"
    }
   ],
   "source": [
    "cor = train.corr()\n",
    "plt.figure(figsize=(18,18))\n",
    "sns.heatmap(cor, cbar = True,  square = True, annot=True, fmt= '.2f',annot_kws={'size': 10},\n",
    "            xticklabels=cor.columns.values,\n",
    "            yticklabels=cor.columns.values)"
   ]
  },
  {
   "cell_type": "markdown",
   "metadata": {},
   "source": [
    "    Figure shows that 'BILL_AMTX' are highly correlated to each other, but very less correlation to target label 'DEFAULT'.\n",
    "     When data is huge to save computational resource, such features can be dropped without losing significant prediction power.\n",
    "\n",
    "    Payment statuses 'PAY' show highest contribution to the defaulter label."
   ]
  },
  {
   "cell_type": "markdown",
   "metadata": {},
   "source": [
    "We can see above that PAY_0,PAY_2...have high positive correlation to DEFAULT and LIMIT_BAL has pretty high negative correlation"
   ]
  },
  {
   "cell_type": "markdown",
   "metadata": {},
   "source": [
    "### Feature Engineering"
   ]
  },
  {
   "cell_type": "markdown",
   "metadata": {},
   "source": [
    "\n",
    "The regression coefficients are positive i.e. log-odds of defaulters increase as the ratio of  (bill amount−pay amountcredit limit)  increases. Hence we can add below 6 features."
   ]
  },
  {
   "cell_type": "code",
   "execution_count": 149,
   "metadata": {},
   "outputs": [],
   "source": [
    "train['BILL_PAY_RATIO1'] = (train['BILL_AMT1']-train['PAY_AMT1'])/train['LIMIT_BAL']\n",
    "train['BILL_PAY_RATIO2'] = (train['BILL_AMT2']-train['PAY_AMT2'])/train['LIMIT_BAL']\n",
    "train['BILL_PAY_RATIO3'] = (train['BILL_AMT3']-train['PAY_AMT3'])/train['LIMIT_BAL']\n",
    "train['BILL_PAY_RATIO4'] = (train['BILL_AMT4']-train['PAY_AMT4'])/train['LIMIT_BAL']\n",
    "train['BILL_PAY_RATIO5'] = (train['BILL_AMT5']-train['PAY_AMT5'])/train['LIMIT_BAL']\n",
    "train['BILL_PAY_RATIO6'] = (train['BILL_AMT6']-train['PAY_AMT6'])/train['LIMIT_BAL']\n",
    "\n",
    "test['BILL_PAY_RATIO1'] = (test['BILL_AMT1']-test['PAY_AMT1'])/test['LIMIT_BAL']\n",
    "test['BILL_PAY_RATIO2'] = (test['BILL_AMT2']-test['PAY_AMT2'])/test['LIMIT_BAL']\n",
    "test['BILL_PAY_RATIO3'] = (test['BILL_AMT3']-test['PAY_AMT3'])/test['LIMIT_BAL']\n",
    "test['BILL_PAY_RATIO4'] = (test['BILL_AMT4']-test['PAY_AMT4'])/test['LIMIT_BAL']\n",
    "test['BILL_PAY_RATIO5'] = (test['BILL_AMT5']-test['PAY_AMT5'])/test['LIMIT_BAL']\n",
    "test['BILL_PAY_RATIO6'] = (test['BILL_AMT6']-test['PAY_AMT6'])/test['LIMIT_BAL']"
   ]
  },
  {
   "cell_type": "code",
   "execution_count": 150,
   "metadata": {},
   "outputs": [
    {
     "data": {
      "text/html": [
       "<div>\n",
       "<style scoped>\n",
       "    .dataframe tbody tr th:only-of-type {\n",
       "        vertical-align: middle;\n",
       "    }\n",
       "\n",
       "    .dataframe tbody tr th {\n",
       "        vertical-align: top;\n",
       "    }\n",
       "\n",
       "    .dataframe thead th {\n",
       "        text-align: right;\n",
       "    }\n",
       "</style>\n",
       "<table border=\"1\" class=\"dataframe\">\n",
       "  <thead>\n",
       "    <tr style=\"text-align: right;\">\n",
       "      <th></th>\n",
       "      <th>AGE</th>\n",
       "      <th>BILL_AMT1</th>\n",
       "      <th>BILL_AMT2</th>\n",
       "      <th>BILL_AMT3</th>\n",
       "      <th>BILL_AMT4</th>\n",
       "      <th>BILL_AMT5</th>\n",
       "      <th>BILL_AMT6</th>\n",
       "      <th>EDUCATION</th>\n",
       "      <th>LIMIT_BAL</th>\n",
       "      <th>MARRIAGE</th>\n",
       "      <th>...</th>\n",
       "      <th>PAY_AMT5</th>\n",
       "      <th>PAY_AMT6</th>\n",
       "      <th>SEX</th>\n",
       "      <th>DEFAULT</th>\n",
       "      <th>BILL_PAY_RATIO1</th>\n",
       "      <th>BILL_PAY_RATIO2</th>\n",
       "      <th>BILL_PAY_RATIO3</th>\n",
       "      <th>BILL_PAY_RATIO4</th>\n",
       "      <th>BILL_PAY_RATIO5</th>\n",
       "      <th>BILL_PAY_RATIO6</th>\n",
       "    </tr>\n",
       "    <tr>\n",
       "      <th>ID</th>\n",
       "      <th></th>\n",
       "      <th></th>\n",
       "      <th></th>\n",
       "      <th></th>\n",
       "      <th></th>\n",
       "      <th></th>\n",
       "      <th></th>\n",
       "      <th></th>\n",
       "      <th></th>\n",
       "      <th></th>\n",
       "      <th></th>\n",
       "      <th></th>\n",
       "      <th></th>\n",
       "      <th></th>\n",
       "      <th></th>\n",
       "      <th></th>\n",
       "      <th></th>\n",
       "      <th></th>\n",
       "      <th></th>\n",
       "      <th></th>\n",
       "      <th></th>\n",
       "    </tr>\n",
       "  </thead>\n",
       "  <tbody>\n",
       "    <tr>\n",
       "      <th>1</th>\n",
       "      <td>24.0</td>\n",
       "      <td>3913.0</td>\n",
       "      <td>3102.0</td>\n",
       "      <td>689.0</td>\n",
       "      <td>0.0</td>\n",
       "      <td>0.0</td>\n",
       "      <td>0.0</td>\n",
       "      <td>2.0</td>\n",
       "      <td>20000.0</td>\n",
       "      <td>1.0</td>\n",
       "      <td>...</td>\n",
       "      <td>0.0</td>\n",
       "      <td>0.0</td>\n",
       "      <td>2.0</td>\n",
       "      <td>1.0</td>\n",
       "      <td>0.195650</td>\n",
       "      <td>0.120650</td>\n",
       "      <td>0.034450</td>\n",
       "      <td>0.000000</td>\n",
       "      <td>0.000000</td>\n",
       "      <td>0.000000</td>\n",
       "    </tr>\n",
       "    <tr>\n",
       "      <th>2</th>\n",
       "      <td>26.0</td>\n",
       "      <td>2682.0</td>\n",
       "      <td>1725.0</td>\n",
       "      <td>2682.0</td>\n",
       "      <td>3272.0</td>\n",
       "      <td>3455.0</td>\n",
       "      <td>3261.0</td>\n",
       "      <td>2.0</td>\n",
       "      <td>120000.0</td>\n",
       "      <td>2.0</td>\n",
       "      <td>...</td>\n",
       "      <td>0.0</td>\n",
       "      <td>2000.0</td>\n",
       "      <td>2.0</td>\n",
       "      <td>1.0</td>\n",
       "      <td>0.022350</td>\n",
       "      <td>0.006042</td>\n",
       "      <td>0.014017</td>\n",
       "      <td>0.018933</td>\n",
       "      <td>0.028792</td>\n",
       "      <td>0.010508</td>\n",
       "    </tr>\n",
       "    <tr>\n",
       "      <th>3</th>\n",
       "      <td>34.0</td>\n",
       "      <td>29239.0</td>\n",
       "      <td>14027.0</td>\n",
       "      <td>13559.0</td>\n",
       "      <td>14331.0</td>\n",
       "      <td>14948.0</td>\n",
       "      <td>15549.0</td>\n",
       "      <td>2.0</td>\n",
       "      <td>90000.0</td>\n",
       "      <td>2.0</td>\n",
       "      <td>...</td>\n",
       "      <td>1000.0</td>\n",
       "      <td>5000.0</td>\n",
       "      <td>2.0</td>\n",
       "      <td>0.0</td>\n",
       "      <td>0.308011</td>\n",
       "      <td>0.139189</td>\n",
       "      <td>0.139544</td>\n",
       "      <td>0.148122</td>\n",
       "      <td>0.154978</td>\n",
       "      <td>0.117211</td>\n",
       "    </tr>\n",
       "    <tr>\n",
       "      <th>4</th>\n",
       "      <td>37.0</td>\n",
       "      <td>46990.0</td>\n",
       "      <td>48233.0</td>\n",
       "      <td>49291.0</td>\n",
       "      <td>28314.0</td>\n",
       "      <td>28959.0</td>\n",
       "      <td>29547.0</td>\n",
       "      <td>2.0</td>\n",
       "      <td>50000.0</td>\n",
       "      <td>1.0</td>\n",
       "      <td>...</td>\n",
       "      <td>1069.0</td>\n",
       "      <td>1000.0</td>\n",
       "      <td>2.0</td>\n",
       "      <td>0.0</td>\n",
       "      <td>0.899800</td>\n",
       "      <td>0.924280</td>\n",
       "      <td>0.961820</td>\n",
       "      <td>0.544280</td>\n",
       "      <td>0.557800</td>\n",
       "      <td>0.570940</td>\n",
       "    </tr>\n",
       "    <tr>\n",
       "      <th>5</th>\n",
       "      <td>57.0</td>\n",
       "      <td>8617.0</td>\n",
       "      <td>5670.0</td>\n",
       "      <td>35835.0</td>\n",
       "      <td>20940.0</td>\n",
       "      <td>19146.0</td>\n",
       "      <td>19131.0</td>\n",
       "      <td>2.0</td>\n",
       "      <td>50000.0</td>\n",
       "      <td>1.0</td>\n",
       "      <td>...</td>\n",
       "      <td>689.0</td>\n",
       "      <td>679.0</td>\n",
       "      <td>1.0</td>\n",
       "      <td>0.0</td>\n",
       "      <td>0.132340</td>\n",
       "      <td>-0.620220</td>\n",
       "      <td>0.516700</td>\n",
       "      <td>0.238800</td>\n",
       "      <td>0.369140</td>\n",
       "      <td>0.369040</td>\n",
       "    </tr>\n",
       "  </tbody>\n",
       "</table>\n",
       "<p>5 rows × 30 columns</p>\n",
       "</div>"
      ],
      "text/plain": [
       "     AGE  BILL_AMT1  BILL_AMT2  BILL_AMT3  BILL_AMT4  BILL_AMT5  BILL_AMT6  \\\n",
       "ID                                                                           \n",
       "1   24.0     3913.0     3102.0      689.0        0.0        0.0        0.0   \n",
       "2   26.0     2682.0     1725.0     2682.0     3272.0     3455.0     3261.0   \n",
       "3   34.0    29239.0    14027.0    13559.0    14331.0    14948.0    15549.0   \n",
       "4   37.0    46990.0    48233.0    49291.0    28314.0    28959.0    29547.0   \n",
       "5   57.0     8617.0     5670.0    35835.0    20940.0    19146.0    19131.0   \n",
       "\n",
       "    EDUCATION  LIMIT_BAL  MARRIAGE  ...  PAY_AMT5  PAY_AMT6  SEX  DEFAULT  \\\n",
       "ID                                  ...                                     \n",
       "1         2.0    20000.0       1.0  ...       0.0       0.0  2.0      1.0   \n",
       "2         2.0   120000.0       2.0  ...       0.0    2000.0  2.0      1.0   \n",
       "3         2.0    90000.0       2.0  ...    1000.0    5000.0  2.0      0.0   \n",
       "4         2.0    50000.0       1.0  ...    1069.0    1000.0  2.0      0.0   \n",
       "5         2.0    50000.0       1.0  ...     689.0     679.0  1.0      0.0   \n",
       "\n",
       "    BILL_PAY_RATIO1  BILL_PAY_RATIO2  BILL_PAY_RATIO3  BILL_PAY_RATIO4  \\\n",
       "ID                                                                       \n",
       "1          0.195650         0.120650         0.034450         0.000000   \n",
       "2          0.022350         0.006042         0.014017         0.018933   \n",
       "3          0.308011         0.139189         0.139544         0.148122   \n",
       "4          0.899800         0.924280         0.961820         0.544280   \n",
       "5          0.132340        -0.620220         0.516700         0.238800   \n",
       "\n",
       "    BILL_PAY_RATIO5  BILL_PAY_RATIO6  \n",
       "ID                                    \n",
       "1          0.000000         0.000000  \n",
       "2          0.028792         0.010508  \n",
       "3          0.154978         0.117211  \n",
       "4          0.557800         0.570940  \n",
       "5          0.369140         0.369040  \n",
       "\n",
       "[5 rows x 30 columns]"
      ]
     },
     "execution_count": 150,
     "metadata": {},
     "output_type": "execute_result"
    }
   ],
   "source": [
    "train.head()"
   ]
  },
  {
   "cell_type": "code",
   "execution_count": 151,
   "metadata": {},
   "outputs": [],
   "source": [
    "# function to make a bar plot\n",
    "def plot0(col1, col2, tittle, xticks, train):\n",
    "    dt = train.groupby(col1).agg([np.mean])*100.0\n",
    "    dt = dt[col2].reset_index()\n",
    "    f, ax = plt.subplots(figsize=(5, 5))\n",
    "    sns.barplot(x=col1, y=\"mean\", data=dt)\n",
    "    ax.set(xlabel=\"\", ylabel=\"Default %\")\n",
    "    ax.set_title(label=tittle, fontsize=15)\n",
    "    ax.set_xticklabels(xticks, fontsize=11)"
   ]
  },
  {
   "cell_type": "markdown",
   "metadata": {},
   "source": [
    "##### Defaulters by gender"
   ]
  },
  {
   "cell_type": "code",
   "execution_count": 152,
   "metadata": {},
   "outputs": [
    {
     "data": {
      "text/html": [
       "<div>\n",
       "<style scoped>\n",
       "    .dataframe tbody tr th:only-of-type {\n",
       "        vertical-align: middle;\n",
       "    }\n",
       "\n",
       "    .dataframe tbody tr th {\n",
       "        vertical-align: top;\n",
       "    }\n",
       "\n",
       "    .dataframe thead th {\n",
       "        text-align: right;\n",
       "    }\n",
       "</style>\n",
       "<table border=\"1\" class=\"dataframe\">\n",
       "  <thead>\n",
       "    <tr style=\"text-align: right;\">\n",
       "      <th>SEX</th>\n",
       "      <th>Male</th>\n",
       "      <th>Female</th>\n",
       "      <th>All</th>\n",
       "    </tr>\n",
       "    <tr>\n",
       "      <th>DEFAULT</th>\n",
       "      <th></th>\n",
       "      <th></th>\n",
       "      <th></th>\n",
       "    </tr>\n",
       "  </thead>\n",
       "  <tbody>\n",
       "    <tr>\n",
       "      <th>Non-default</th>\n",
       "      <td>0.753848</td>\n",
       "      <td>0.786656</td>\n",
       "      <td>0.773867</td>\n",
       "    </tr>\n",
       "    <tr>\n",
       "      <th>Default</th>\n",
       "      <td>0.246152</td>\n",
       "      <td>0.213344</td>\n",
       "      <td>0.226133</td>\n",
       "    </tr>\n",
       "    <tr>\n",
       "      <th>All</th>\n",
       "      <td>1.000000</td>\n",
       "      <td>1.000000</td>\n",
       "      <td>1.000000</td>\n",
       "    </tr>\n",
       "  </tbody>\n",
       "</table>\n",
       "</div>"
      ],
      "text/plain": [
       "SEX              Male    Female       All\n",
       "DEFAULT                                  \n",
       "Non-default  0.753848  0.786656  0.773867\n",
       "Default      0.246152  0.213344  0.226133\n",
       "All          1.000000  1.000000  1.000000"
      ]
     },
     "execution_count": 152,
     "metadata": {},
     "output_type": "execute_result"
    }
   ],
   "source": [
    "#Crosstab\n",
    "sex_crosstab = pd.crosstab(train['DEFAULT'], train['SEX'], margins=True, normalize=False)\n",
    "new_index = {0: 'Non-default', 1: 'Default', }\n",
    "new_columns = {1 : 'Male', 2 : 'Female'}\n",
    "sex_crosstab.rename(index=new_index, columns=new_columns, inplace=True)\n",
    "sex_crosstab/sex_crosstab.loc['All']"
   ]
  },
  {
   "cell_type": "code",
   "execution_count": 153,
   "metadata": {},
   "outputs": [
    {
     "data": {
      "image/png": "[encoded data removed]",
      "text/plain": [
       "<Figure size 360x360 with 1 Axes>"
      ]
     },
     "metadata": {
      "needs_background": "light"
     },
     "output_type": "display_data"
    }
   ],
   "source": [
    "#Bar Chart\n",
    "col1 = \"SEX\"\n",
    "col2 = \"DEFAULT\"\n",
    "tittle = \"% of Defaulters by Sex\"\n",
    "xticks = [\"Male\", \"Female\"]\n",
    "plot0(col1, col2, tittle, xticks, train)"
   ]
  },
  {
   "cell_type": "markdown",
   "metadata": {},
   "source": [
    "Observations:\n",
    "\n",
    "    Approximately 24.2% of the males defaulted.\n",
    "    Approximately 20.8% of the females defaulted."
   ]
  },
  {
   "cell_type": "markdown",
   "metadata": {},
   "source": [
    "##### Defaulters by Marriage status "
   ]
  },
  {
   "cell_type": "code",
   "execution_count": 156,
   "metadata": {},
   "outputs": [
    {
     "data": {
      "text/html": [
       "<div>\n",
       "<style scoped>\n",
       "    .dataframe tbody tr th:only-of-type {\n",
       "        vertical-align: middle;\n",
       "    }\n",
       "\n",
       "    .dataframe tbody tr th {\n",
       "        vertical-align: top;\n",
       "    }\n",
       "\n",
       "    .dataframe thead th {\n",
       "        text-align: right;\n",
       "    }\n",
       "</style>\n",
       "<table border=\"1\" class=\"dataframe\">\n",
       "  <thead>\n",
       "    <tr style=\"text-align: right;\">\n",
       "      <th>MARRIAGE</th>\n",
       "      <th>0.0</th>\n",
       "      <th>Married</th>\n",
       "      <th>Single</th>\n",
       "      <th>Others</th>\n",
       "      <th>All</th>\n",
       "    </tr>\n",
       "    <tr>\n",
       "      <th>DEFAULT</th>\n",
       "      <th></th>\n",
       "      <th></th>\n",
       "      <th></th>\n",
       "      <th></th>\n",
       "      <th></th>\n",
       "    </tr>\n",
       "  </thead>\n",
       "  <tbody>\n",
       "    <tr>\n",
       "      <th>Non-default</th>\n",
       "      <td>0.972222</td>\n",
       "      <td>0.757457</td>\n",
       "      <td>0.78738</td>\n",
       "      <td>0.741176</td>\n",
       "      <td>0.773867</td>\n",
       "    </tr>\n",
       "    <tr>\n",
       "      <th>Default</th>\n",
       "      <td>0.027778</td>\n",
       "      <td>0.242543</td>\n",
       "      <td>0.21262</td>\n",
       "      <td>0.258824</td>\n",
       "      <td>0.226133</td>\n",
       "    </tr>\n",
       "    <tr>\n",
       "      <th>All</th>\n",
       "      <td>1.000000</td>\n",
       "      <td>1.000000</td>\n",
       "      <td>1.00000</td>\n",
       "      <td>1.000000</td>\n",
       "      <td>1.000000</td>\n",
       "    </tr>\n",
       "  </tbody>\n",
       "</table>\n",
       "</div>"
      ],
      "text/plain": [
       "MARRIAGE          0.0   Married   Single    Others       All\n",
       "DEFAULT                                                     \n",
       "Non-default  0.972222  0.757457  0.78738  0.741176  0.773867\n",
       "Default      0.027778  0.242543  0.21262  0.258824  0.226133\n",
       "All          1.000000  1.000000  1.00000  1.000000  1.000000"
      ]
     },
     "execution_count": 156,
     "metadata": {},
     "output_type": "execute_result"
    }
   ],
   "source": [
    "marital_crosstab = pd.crosstab(train['DEFAULT'], train['MARRIAGE'], margins=True, normalize=False)\n",
    "new_index = {0: 'Non-default', 1: 'Default', }\n",
    "new_columns = {1 : 'Married', 2 : 'Single', 3:'Others'}\n",
    "marital_crosstab.rename(index=new_index, columns=new_columns, inplace=True)\n",
    "marital_crosstab/marital_crosstab.loc['All']"
   ]
  },
  {
   "cell_type": "code",
   "execution_count": 158,
   "metadata": {},
   "outputs": [
    {
     "data": {
      "image/png": "[encoded data removed]",
      "text/plain": [
       "<Figure size 360x360 with 1 Axes>"
      ]
     },
     "metadata": {
      "needs_background": "light"
     },
     "output_type": "display_data"
    }
   ],
   "source": [
    "#Bar Chart\n",
    "col1 = \"MARRIAGE\"\n",
    "col2 = \"DEFAULT\"\n",
    "tittle = \"% of Defaulters by Marital Status\"\n",
    "xticks = [\"Married\", \"Single\", \"Other\"]\n",
    "plot0(col1, col2, tittle, xticks, train)"
   ]
  },
  {
   "cell_type": "markdown",
   "metadata": {},
   "source": [
    "Observations:\n",
    "\n",
    "    Approximately 24.2% of the Married people defaulted.\n",
    "    Approximately 21.2% of the Single people defaulted."
   ]
  },
  {
   "cell_type": "markdown",
   "metadata": {},
   "source": [
    "##### Defaulters by Level of Education"
   ]
  },
  {
   "cell_type": "code",
   "execution_count": 159,
   "metadata": {},
   "outputs": [
    {
     "data": {
      "text/html": [
       "<div>\n",
       "<style scoped>\n",
       "    .dataframe tbody tr th:only-of-type {\n",
       "        vertical-align: middle;\n",
       "    }\n",
       "\n",
       "    .dataframe tbody tr th {\n",
       "        vertical-align: top;\n",
       "    }\n",
       "\n",
       "    .dataframe thead th {\n",
       "        text-align: right;\n",
       "    }\n",
       "</style>\n",
       "<table border=\"1\" class=\"dataframe\">\n",
       "  <thead>\n",
       "    <tr style=\"text-align: right;\">\n",
       "      <th>EDUCATION</th>\n",
       "      <th>0.0</th>\n",
       "      <th>Graduate school</th>\n",
       "      <th>University</th>\n",
       "      <th>High school</th>\n",
       "      <th>Others</th>\n",
       "      <th>5.0</th>\n",
       "      <th>6.0</th>\n",
       "      <th>All</th>\n",
       "    </tr>\n",
       "    <tr>\n",
       "      <th>DEFAULT</th>\n",
       "      <th></th>\n",
       "      <th></th>\n",
       "      <th></th>\n",
       "      <th></th>\n",
       "      <th></th>\n",
       "      <th></th>\n",
       "      <th></th>\n",
       "      <th></th>\n",
       "    </tr>\n",
       "  </thead>\n",
       "  <tbody>\n",
       "    <tr>\n",
       "      <th>Non-default</th>\n",
       "      <td>1.0</td>\n",
       "      <td>0.802681</td>\n",
       "      <td>0.758699</td>\n",
       "      <td>0.741134</td>\n",
       "      <td>0.960526</td>\n",
       "      <td>0.923913</td>\n",
       "      <td>0.909091</td>\n",
       "      <td>0.773867</td>\n",
       "    </tr>\n",
       "    <tr>\n",
       "      <th>Default</th>\n",
       "      <td>0.0</td>\n",
       "      <td>0.197319</td>\n",
       "      <td>0.241301</td>\n",
       "      <td>0.258866</td>\n",
       "      <td>0.039474</td>\n",
       "      <td>0.076087</td>\n",
       "      <td>0.090909</td>\n",
       "      <td>0.226133</td>\n",
       "    </tr>\n",
       "    <tr>\n",
       "      <th>All</th>\n",
       "      <td>1.0</td>\n",
       "      <td>1.000000</td>\n",
       "      <td>1.000000</td>\n",
       "      <td>1.000000</td>\n",
       "      <td>1.000000</td>\n",
       "      <td>1.000000</td>\n",
       "      <td>1.000000</td>\n",
       "      <td>1.000000</td>\n",
       "    </tr>\n",
       "  </tbody>\n",
       "</table>\n",
       "</div>"
      ],
      "text/plain": [
       "EDUCATION    0.0  Graduate school  University  High school    Others  \\\n",
       "DEFAULT                                                                \n",
       "Non-default  1.0         0.802681    0.758699     0.741134  0.960526   \n",
       "Default      0.0         0.197319    0.241301     0.258866  0.039474   \n",
       "All          1.0         1.000000    1.000000     1.000000  1.000000   \n",
       "\n",
       "EDUCATION         5.0       6.0       All  \n",
       "DEFAULT                                    \n",
       "Non-default  0.923913  0.909091  0.773867  \n",
       "Default      0.076087  0.090909  0.226133  \n",
       "All          1.000000  1.000000  1.000000  "
      ]
     },
     "execution_count": 159,
     "metadata": {},
     "output_type": "execute_result"
    }
   ],
   "source": [
    "#Crosstab\n",
    "education_crosstab = pd.crosstab(train['DEFAULT'], train['EDUCATION'], margins=True, normalize=False)\n",
    "new_index = {0: 'Non-default', 1: 'Default', }\n",
    "new_columns = {1 : 'Graduate school', 2 : 'University', 3 : 'High school', 4 : 'Others'}\n",
    "education_crosstab.rename(index=new_index, columns=new_columns, inplace=True)\n",
    "education_crosstab/education_crosstab.loc['All']"
   ]
  },
  {
   "cell_type": "code",
   "execution_count": 160,
   "metadata": {},
   "outputs": [
    {
     "data": {
      "image/png": "[encoded data removed]",
      "text/plain": [
       "<Figure size 360x360 with 1 Axes>"
      ]
     },
     "metadata": {
      "needs_background": "light"
     },
     "output_type": "display_data"
    }
   ],
   "source": [
    "#Bar Chart\n",
    "col1 = \"EDUCATION\"\n",
    "col2 = \"DEFAULT\"\n",
    "tittle = \"% of Defaulters by Education Level\"\n",
    "xticks = [\"Graduate\", \"University\", \"High school\", \"Others\"]\n",
    "plot0(col1, col2, tittle, xticks, train)"
   ]
  },
  {
   "cell_type": "markdown",
   "metadata": {},
   "source": [
    "Observations:\n",
    "\n",
    "    Approximately 25.8% of defaulters studied upto High School.\n",
    "    Approximately 23.7% of defaulters studied upto University.\n",
    "    Approximately 19.7% of defaulters studied upto Graduate School."
   ]
  },
  {
   "cell_type": "markdown",
   "metadata": {},
   "source": [
    "##### Defaulters by Age group"
   ]
  },
  {
   "cell_type": "code",
   "execution_count": 161,
   "metadata": {},
   "outputs": [
    {
     "data": {
      "image/png": "[encoded data removed]",
      "text/plain": [
       "<Figure size 864x432 with 1 Axes>"
      ]
     },
     "metadata": {
      "needs_background": "light"
     },
     "output_type": "display_data"
    }
   ],
   "source": [
    "defaulters = train[train[\"DEFAULT\"] == 1]\n",
    "non_defaulters = train[train[\"DEFAULT\"] == 0]\n",
    "defaulters[\"Defaulter\"] = defaulters[\"AGE\"]\n",
    "non_defaulters[\"Non Defaulter\"] = non_defaulters[\"AGE\"]\n",
    "f, ax = plt.subplots(figsize=(12, 6))\n",
    "ax = sns.kdeplot(defaulters[\"Defaulter\"], shade=True, color=\"r\")\n",
    "ax = sns.kdeplot(non_defaulters[\"Non Defaulter\"], shade=True, color=\"g\")"
   ]
  },
  {
   "cell_type": "markdown",
   "metadata": {},
   "source": [
    "Observations:\n",
    "\n",
    "    Defaulters seems to increase from the early 20s to the early 30s.\n",
    "    Defaulters seems to decrease from the early 40s onward."
   ]
  },
  {
   "cell_type": "markdown",
   "metadata": {},
   "source": [
    "##### Defaulters correlated with credit limit"
   ]
  },
  {
   "cell_type": "code",
   "execution_count": 162,
   "metadata": {},
   "outputs": [
    {
     "data": {
      "image/png": "[encoded data removed]",
      "text/plain": [
       "<Figure size 864x432 with 1 Axes>"
      ]
     },
     "metadata": {
      "needs_background": "light"
     },
     "output_type": "display_data"
    }
   ],
   "source": [
    "defaulters = train[train[\"DEFAULT\"] == 1]\n",
    "non_defaulters = train[train[\"DEFAULT\"] == 0]\n",
    "defaulters[\"Defaulter\"] = defaulters[\"LIMIT_BAL\"]\n",
    "non_defaulters[\"Non Defaulter\"] = non_defaulters[\"LIMIT_BAL\"]\n",
    "f, ax = plt.subplots(figsize=(12, 6))\n",
    "ax = sns.kdeplot(defaulters[\"Defaulter\"], shade=True, color=\"r\")\n",
    "ax = sns.kdeplot(non_defaulters[\"Non Defaulter\"], shade=True, color=\"b\")"
   ]
  },
  {
   "cell_type": "code",
   "execution_count": 168,
   "metadata": {},
   "outputs": [],
   "source": [
    "# function to make a scatter plot\n",
    "def plot1(label_list, label_dict, data, col,tittle,xlabel,ylabel, ticks):\n",
    "  df = {}\n",
    "  for i in label_list:\n",
    "      df[i] = data.groupby([i, col]).size().unstack()\n",
    "      df[i] = df[i][df[i].sum(axis=1)>25]\n",
    "      df[i] = df[i].div(df[i].sum(axis=1), axis='index') # Calculate proportions\n",
    "      df[i].sort_index(ascending=False, inplace=True)\n",
    "          \n",
    "  sns.set_palette(sns.light_palette(\"red\", reverse=True))   # plot\n",
    "  fig, ax = plt.subplots(1, 1, figsize=(6,4))\n",
    "\n",
    "  for i in label_list:\n",
    "      ax.scatter(x=df[i].index, y=df[i][1], label=label_dict.get(i), s=100, edgecolor='k', lw=1)          \n",
    "\n",
    "  ax.set_ylim([0, 1])\n",
    "  plt.xticks(ticks, rotation=0)\n",
    "  ax.xaxis.set_ticks(ticks=ticks, minor=False)\n",
    "  ax.grid(b=True, which='major', color='0.4', linestyle='--')\n",
    "  lgd = plt.legend(loc='center left', bbox_to_anchor=(1.0, 0.5), fontsize=14)\n",
    "  for tick in ax.yaxis.get_major_ticks():\n",
    "      tick.label.set_fontsize(14) \n",
    "  for tick in ax.xaxis.get_major_ticks():\n",
    "      tick.label.set_fontsize(14) \n",
    "  for spine in ax.spines.values():\n",
    "      spine.set_edgecolor('k')\n",
    "  sns.set_palette(sns.light_palette(\"green\", reverse=True))\n",
    "  plt.title(tittle, fontsize=17, y = 1.05) \n",
    "  plt.ylabel(xlabel, fontsize=14)\n",
    "  plt.xlabel(ylabel, fontsize=14)\n",
    "  plt.show()\n"
   ]
  },
  {
   "cell_type": "code",
   "execution_count": 169,
   "metadata": {},
   "outputs": [
    {
     "data": {
      "image/png": "[encoded data removed]",
      "text/plain": [
       "<Figure size 432x288 with 1 Axes>"
      ]
     },
     "metadata": {
      "needs_background": "light"
     },
     "output_type": "display_data"
    }
   ],
   "source": [
    "label_list =['PAY_0',  'PAY_2',  'PAY_3',  'PAY_4',  'PAY_5',  'PAY_6']\n",
    "label_dict ={'PAY_0': 'PAY_0 - Sep, 2005', \n",
    "             'PAY_2': 'PAY_2 - Aug, 2005', \n",
    "             'PAY_3': 'PAY_3 - Jul, 2005', \n",
    "             'PAY_4': 'PAY_4 - Jun, 2005',  \n",
    "             'PAY_5': 'PAY_5 - May, 2005',  \n",
    "             'PAY_6': 'PAY_6 - Apr, 2005'}\n",
    "\n",
    "col = 'DEFAULT'\n",
    "tittle = 'Proportion of Defaulters Versus Repayment Status'\n",
    "xlabel = 'Proportion of Defaulters'\n",
    "ylabel = 'Repayment Status'\n",
    "ticks = [-2, -1, 0, 1, 2, 3, 4, 5, 6, 7, 8,9]\n",
    "plot1(label_list, label_dict, train, col,tittle,xlabel,ylabel,ticks)"
   ]
  },
  {
   "cell_type": "markdown",
   "metadata": {},
   "source": [
    "Observations:\n",
    "\n",
    "    The proportion of defaulters in delinquency bucket 2 or more i.e. with payment delay for 2 or more months are much higher."
   ]
  },
  {
   "cell_type": "code",
   "execution_count": 171,
   "metadata": {},
   "outputs": [
    {
     "data": {
      "image/png": "[encoded data removed]",
      "text/plain": [
       "<Figure size 432x288 with 1 Axes>"
      ]
     },
     "metadata": {
      "needs_background": "light"
     },
     "output_type": "display_data"
    }
   ],
   "source": [
    "label_list =['BILL_AMT1', 'BILL_AMT2', 'BILL_AMT3', 'BILL_AMT4', 'BILL_AMT5', 'BILL_AMT6']\n",
    "label_dict ={'BILL_AMT1': 'BILL_AMT1 - Sep, 2005',  \n",
    "             'BILL_AMT2': 'BILL_AMT2 - Aug, 2005',\n",
    "             'BILL_AMT3': 'BILL_AMT3 - Jul, 2005', \n",
    "             'BILL_AMT4': 'BILL_AMT4 - Jun, 2005',  \n",
    "             'BILL_AMT5': 'BILL_AMT5 - May, 2005', \n",
    "             'BILL_AMT6': 'BILL_AMT6 - Apr, 2005'}\n",
    "\n",
    "col = 'DEFAULT'\n",
    "tittle = 'Proportion of Defaulters Versus Bill Amount'\n",
    "xlabel = 'Proportion of Defaulters'\n",
    "ylabel = 'Bill Amount'\n",
    "ticks = []\n",
    "for i in range(0, 3000, 500):\n",
    "    ticks.append(round(i,1))\n",
    "plot1(label_list, label_dict, train, col,tittle,xlabel,ylabel,ticks)"
   ]
  },
  {
   "cell_type": "markdown",
   "metadata": {},
   "source": [
    "Observations:\n",
    "\n",
    "    The proportion of defaulters is positively correlated with bill amount in recent months."
   ]
  },
  {
   "cell_type": "markdown",
   "metadata": {},
   "source": [
    "### Modelling"
   ]
  },
  {
   "cell_type": "code",
   "execution_count": 175,
   "metadata": {},
   "outputs": [],
   "source": [
    "from sklearn.metrics import roc_curve, auc, confusion_matrix, classification_report,accuracy_score\n",
    "from sklearn.linear_model import LogisticRegression\n",
    "from sklearn.model_selection import GridSearchCV\n",
    "from sklearn.tree import DecisionTreeClassifier\n",
    "from sklearn.neighbors import KNeighborsClassifier\n",
    "from sklearn.naive_bayes import GaussianNB\n",
    "from sklearn.svm import SVC\n",
    "from sklearn.model_selection import KFold\n",
    "from sklearn.ensemble import GradientBoostingClassifier, RandomForestClassifier\n",
    "from sklearn import preprocessing, metrics\n",
    "from xgboost import XGBClassifier\n",
    "warnings.filterwarnings('ignore') # to supress warnings\n",
    "from sklearn.model_selection import train_test_split\n"
   ]
  },
  {
   "cell_type": "code",
   "execution_count": 177,
   "metadata": {},
   "outputs": [],
   "source": [
    "x = train.drop(['DEFAULT'],axis = 1)\n",
    "y = train.DEFAULT\n",
    "\n",
    "# rescale the metrics to the same mean and standard deviation\n",
    "scaler = preprocessing.StandardScaler()\n",
    "x = scaler.fit(x).transform(x)\n",
    "\n",
    "# Further divide the train data into train test split 70% & 30% respectively\n",
    "x_train, x_test, y_train, y_test = train_test_split(x, y, test_size=0.3, stratify=y, random_state=2)"
   ]
  },
  {
   "cell_type": "code",
   "execution_count": 178,
   "metadata": {},
   "outputs": [],
   "source": [
    "# list of different classifiers we are going to test\n",
    "clfs = {\n",
    "'LogisticRegression' : LogisticRegression(),\n",
    "'GaussianNB': GaussianNB(),\n",
    "'RandomForest': RandomForestClassifier(),\n",
    "'DecisionTreeClassifier': DecisionTreeClassifier(),\n",
    "'SVM': SVC(),\n",
    "'KNeighborsClassifier': KNeighborsClassifier(),\n",
    "'GradientBoosting': GradientBoostingClassifier(),\n",
    "'XGBClassifier': XGBClassifier()\n",
    "}"
   ]
  },
  {
   "cell_type": "code",
   "execution_count": 179,
   "metadata": {},
   "outputs": [
    {
     "data": {
      "text/html": [
       "<div>\n",
       "<style scoped>\n",
       "    .dataframe tbody tr th:only-of-type {\n",
       "        vertical-align: middle;\n",
       "    }\n",
       "\n",
       "    .dataframe tbody tr th {\n",
       "        vertical-align: top;\n",
       "    }\n",
       "\n",
       "    .dataframe thead th {\n",
       "        text-align: right;\n",
       "    }\n",
       "</style>\n",
       "<table border=\"1\" class=\"dataframe\">\n",
       "  <thead>\n",
       "    <tr style=\"text-align: right;\">\n",
       "      <th></th>\n",
       "      <th>Model</th>\n",
       "      <th>Precision_score</th>\n",
       "      <th>Recall_score</th>\n",
       "      <th>F1_score</th>\n",
       "      <th>Accuracy</th>\n",
       "    </tr>\n",
       "  </thead>\n",
       "  <tbody>\n",
       "    <tr>\n",
       "      <th>0</th>\n",
       "      <td>LogisticRegression</td>\n",
       "      <td>0.683810</td>\n",
       "      <td>0.235256</td>\n",
       "      <td>0.350073</td>\n",
       "      <td>0.802519</td>\n",
       "    </tr>\n",
       "    <tr>\n",
       "      <th>1</th>\n",
       "      <td>GaussianNB</td>\n",
       "      <td>0.368237</td>\n",
       "      <td>0.619921</td>\n",
       "      <td>0.462027</td>\n",
       "      <td>0.673630</td>\n",
       "    </tr>\n",
       "    <tr>\n",
       "      <th>2</th>\n",
       "      <td>RandomForest</td>\n",
       "      <td>0.599246</td>\n",
       "      <td>0.312582</td>\n",
       "      <td>0.410853</td>\n",
       "      <td>0.797333</td>\n",
       "    </tr>\n",
       "    <tr>\n",
       "      <th>3</th>\n",
       "      <td>DecisionTreeClassifier</td>\n",
       "      <td>0.369184</td>\n",
       "      <td>0.400393</td>\n",
       "      <td>0.384156</td>\n",
       "      <td>0.709778</td>\n",
       "    </tr>\n",
       "    <tr>\n",
       "      <th>4</th>\n",
       "      <td>SVM</td>\n",
       "      <td>0.670833</td>\n",
       "      <td>0.316514</td>\n",
       "      <td>0.430098</td>\n",
       "      <td>0.810370</td>\n",
       "    </tr>\n",
       "    <tr>\n",
       "      <th>5</th>\n",
       "      <td>KNeighborsClassifier</td>\n",
       "      <td>0.547778</td>\n",
       "      <td>0.323067</td>\n",
       "      <td>0.406430</td>\n",
       "      <td>0.786667</td>\n",
       "    </tr>\n",
       "    <tr>\n",
       "      <th>6</th>\n",
       "      <td>GradientBoosting</td>\n",
       "      <td>0.663252</td>\n",
       "      <td>0.339450</td>\n",
       "      <td>0.449068</td>\n",
       "      <td>0.811704</td>\n",
       "    </tr>\n",
       "    <tr>\n",
       "      <th>7</th>\n",
       "      <td>XGBClassifier</td>\n",
       "      <td>0.662760</td>\n",
       "      <td>0.333552</td>\n",
       "      <td>0.443766</td>\n",
       "      <td>0.810963</td>\n",
       "    </tr>\n",
       "  </tbody>\n",
       "</table>\n",
       "</div>"
      ],
      "text/plain": [
       "                    Model  Precision_score  Recall_score  F1_score  Accuracy\n",
       "0      LogisticRegression         0.683810      0.235256  0.350073  0.802519\n",
       "1              GaussianNB         0.368237      0.619921  0.462027  0.673630\n",
       "2            RandomForest         0.599246      0.312582  0.410853  0.797333\n",
       "3  DecisionTreeClassifier         0.369184      0.400393  0.384156  0.709778\n",
       "4                     SVM         0.670833      0.316514  0.430098  0.810370\n",
       "5    KNeighborsClassifier         0.547778      0.323067  0.406430  0.786667\n",
       "6        GradientBoosting         0.663252      0.339450  0.449068  0.811704\n",
       "7           XGBClassifier         0.662760      0.333552  0.443766  0.810963"
      ]
     },
     "execution_count": 179,
     "metadata": {},
     "output_type": "execute_result"
    }
   ],
   "source": [
    "# code block to test all models in clfs and generate a report\n",
    "models_report = pd.DataFrame(columns = ['Model', 'Precision_score', 'Recall_score','F1_score', 'Accuracy'])\n",
    "\n",
    "for clf, clf_name in zip(clfs.values(), clfs.keys()):\n",
    "    clf.fit(x_train,y_train)\n",
    "    y_pred = clf.predict(x_test)\n",
    "    y_score = clf.score(x_test,y_test)\n",
    "    \n",
    "    #print('Calculating {}'.format(clf_name))\n",
    "    t = pd.Series({ \n",
    "                     'Model': clf_name,\n",
    "                     'Precision_score': metrics.precision_score(y_test, y_pred),\n",
    "                     'Recall_score': metrics.recall_score(y_test, y_pred),\n",
    "                     'F1_score': metrics.f1_score(y_test, y_pred),\n",
    "                     'Accuracy': metrics.accuracy_score(y_test, y_pred)}\n",
    "                   )\n",
    "\n",
    "    models_report = models_report.append(t, ignore_index = True)\n",
    "\n",
    "models_report\n"
   ]
  },
  {
   "cell_type": "markdown",
   "metadata": {},
   "source": [
    "From above report we can see that highest accuracy is given by XGboost followed by GradientBoosting, let us compare both"
   ]
  },
  {
   "cell_type": "code",
   "execution_count": 187,
   "metadata": {},
   "outputs": [],
   "source": [
    "# Function to optimize model using gridsearch \n",
    "def gridsearch(model, params,x_train, x_test, y_train, y_test, kfold):\n",
    "    gs = GridSearchCV(model, params, scoring='accuracy', n_jobs=-1, cv=kfold)\n",
    "    gs.fit(x_train, y_train)\n",
    "    print( 'Best params: '), gs.best_params_\n",
    "    print( 'Best AUC on Train set: '), gs.best_score_\n",
    "    print( 'Best AUC on Test set: '), gs.score(x_test, y_test)\n",
    "\n",
    "# Function to generate confusion matrix\n",
    "def confmat(pred, y_test):\n",
    "    conmat = np.array(confusion_matrix(y_test, pred, labels=[1,0]))\n",
    "    conf = pd.DataFrame(conmat, index=['Defaulter', 'Not Defaulter'],\n",
    "                             columns=['Predicted Defaulter', 'Predicted Not Defaulter'])\n",
    "    print( conf)\n",
    "\n",
    "# Function to plot roc curve\n",
    "def roc(prob, y_test):\n",
    "    y_score = prob\n",
    "    fpr = dict()\n",
    "    tpr = dict()\n",
    "    roc_auc=dict()\n",
    "    fpr[1], tpr[1], _ = roc_curve(y_test, y_score)\n",
    "    roc_auc[1] = auc(fpr[1], tpr[1])\n",
    "    plt.figure(figsize=[7,7])\n",
    "    plt.plot(fpr[1], tpr[1], label='Roc curve (area=%0.2f)' %roc_auc[1], linewidth=4)\n",
    "    plt.plot([1,0], [1,0], 'k--', linewidth=4)\n",
    "    plt.xlim([0.0, 1.0])\n",
    "    plt.ylim([0.0, 1.0])\n",
    "    plt.xlabel('False Positive rate', fontsize=15)\n",
    "    plt.ylabel('True Positive rate', fontsize=15)\n",
    "    plt.title('ROC curve for Credit Default', fontsize=16)\n",
    "    plt.legend(loc='Lower Right')\n",
    "    plt.show()\n",
    "    \n",
    "def model(md, x_train, y_train,x_test, y_test):\n",
    "    md.fit(x_train, y_train)\n",
    "    pred = md.predict(x_test)\n",
    "    #prob = md.predict_proba(x_test)[:,1]\n",
    "    print( ' ' )\n",
    "    print( 'Accuracy on Train set: '), md.score(x_train, y_train)\n",
    "    print( 'Accuracy on Test set: '), md.score(x_test, y_test)\n",
    "    print( ' ')\n",
    "    print(classification_report(y_test, pred))\n",
    "    print( ' ')\n",
    "    print( 'Confusion Matrix')\n",
    "    confmat(pred, y_test)\n",
    "    #roc(prob, y_test)\n",
    "    return md"
   ]
  },
  {
   "cell_type": "markdown",
   "metadata": {},
   "source": [
    "#### Parameter tuning"
   ]
  },
  {
   "cell_type": "markdown",
   "metadata": {},
   "source": [
    "\n",
    "There are a few parameters that require tuning to improve the performance. I use GridSearchCV method to test model through a series of parameter values."
   ]
  },
  {
   "cell_type": "markdown",
   "metadata": {},
   "source": [
    "##### GradientBoosting\n"
   ]
  },
  {
   "cell_type": "code",
   "execution_count": 188,
   "metadata": {},
   "outputs": [
    {
     "name": "stdout",
     "output_type": "stream",
     "text": [
      "Best params: \n",
      "Best AUC on Train set: \n",
      "Best AUC on Test set: \n"
     ]
    }
   ],
   "source": [
    "# Use gridsearch to fine tune the parameters\n",
    "gb = GradientBoostingClassifier()\n",
    "gb_params = {'n_estimators': [100,200,300],'learning_rate' : [0.01, 0.02, 0.05, 0.1]}\n",
    "gridsearch(gb, gb_params,x_train, x_test, y_train, y_test,5)"
   ]
  },
  {
   "cell_type": "code",
   "execution_count": 189,
   "metadata": {},
   "outputs": [
    {
     "name": "stdout",
     "output_type": "stream",
     "text": [
      " \n",
      "Accuracy on Train set: \n",
      "Accuracy on Test set: \n",
      " \n",
      "              precision    recall  f1-score   support\n",
      "\n",
      "         0.0       0.83      0.94      0.88      5224\n",
      "         1.0       0.64      0.34      0.45      1526\n",
      "\n",
      "   micro avg       0.81      0.81      0.81      6750\n",
      "   macro avg       0.74      0.64      0.66      6750\n",
      "weighted avg       0.79      0.81      0.78      6750\n",
      "\n",
      " \n",
      "Confusion Matrix\n",
      "               Predicted Defaulter  Predicted Not Defaulter\n",
      "Defaulter                      521                     1005\n",
      "Not Defaulter                  292                     4932\n"
     ]
    }
   ],
   "source": [
    "# feature selection with the best model from grid search\n",
    "gb = GradientBoostingClassifier(learning_rate= 0.02, max_depth= 7,n_estimators=300, max_features = 0.9,min_samples_leaf = 5)\n",
    "model_gb = model(gb, x_train, y_train,x_test, y_test)"
   ]
  },
  {
   "cell_type": "markdown",
   "metadata": {},
   "source": [
    "##### XGboost"
   ]
  },
  {
   "cell_type": "code",
   "execution_count": 190,
   "metadata": {},
   "outputs": [
    {
     "name": "stdout",
     "output_type": "stream",
     "text": [
      "Best params: \n",
      "Best AUC on Train set: \n",
      "Best AUC on Test set: \n"
     ]
    }
   ],
   "source": [
    "# Use gridsearch to fine tune the parameters\n",
    "xgb = XGBClassifier()\n",
    "xgb_params = {'n_estimators':[200,300],'learning_rate':[0.05,0.02], 'max_depth':[4],'min_child_weight':[0],'gamma':[0]}\n",
    "gridsearch(xgb, xgb_params,x_train, x_test, y_train, y_test,5)"
   ]
  },
  {
   "cell_type": "code",
   "execution_count": 191,
   "metadata": {},
   "outputs": [
    {
     "name": "stdout",
     "output_type": "stream",
     "text": [
      " \n",
      "Accuracy on Train set: \n",
      "Accuracy on Test set: \n",
      " \n",
      "              precision    recall  f1-score   support\n",
      "\n",
      "         0.0       0.83      0.95      0.89      5224\n",
      "         1.0       0.66      0.33      0.44      1526\n",
      "\n",
      "   micro avg       0.81      0.81      0.81      6750\n",
      "   macro avg       0.75      0.64      0.66      6750\n",
      "weighted avg       0.79      0.81      0.79      6750\n",
      "\n",
      " \n",
      "Confusion Matrix\n",
      "               Predicted Defaulter  Predicted Not Defaulter\n",
      "Defaulter                      510                     1016\n",
      "Not Defaulter                  262                     4962\n"
     ]
    }
   ],
   "source": [
    "# feature selection with the best model from grid search\n",
    "xgb = XGBClassifier(\n",
    " learning_rate =0.05,\n",
    " n_estimators=200,\n",
    " max_depth=4,\n",
    " min_child_weight=0,\n",
    " gamma=0,\n",
    " subsample=0.8,\n",
    " colsample_bytree=0.8,\n",
    " objective= 'binary:logistic',\n",
    " nthread=1,\n",
    " scale_pos_weight=1,\n",
    " seed=27)\n",
    "model_xgb = model(xgb, x_train, y_train,x_test, y_test)"
   ]
  },
  {
   "cell_type": "markdown",
   "metadata": {},
   "source": [
    "The classification metrics of iterest for this fairly imbalanced dataset are:\n",
    "\n",
    "    precision = tp / (tp + fp)\n",
    "    recall = tp / (tp + fn)\n",
    "    f1 = 2(precision)(recall) / (precision + recall)\n",
    "    Roc curve area\n",
    "Depending upon banks operational costs & ideology a large bank may follow the principal that fewer False Positives are preferable over a few more False Negatives to be able to lend more & spend less on investigations on the contrary a conservative approach would go with the opposite i.e more accuracy."
   ]
  },
  {
   "cell_type": "markdown",
   "metadata": {},
   "source": [
    "###### Therefore we see that XGBoost trains with little higher accuracy and auc score than GradientBoost. We will use XGBoost for final predictions. i.e. fewer False Positives are preferable over a few more False Negatives"
   ]
  },
  {
   "cell_type": "code",
   "execution_count": 192,
   "metadata": {},
   "outputs": [],
   "source": [
    "#Predict final values on Test data set\n",
    "test['PREDICTED_STATUS']=np.int_(model_gb.predict(test.drop(['DEFAULT'],axis = 1)))\n",
    "test.index.names = ['ID']"
   ]
  },
  {
   "cell_type": "code",
   "execution_count": 193,
   "metadata": {},
   "outputs": [],
   "source": [
    "test['PREDICTED_STATUS'].to_csv(\"credit_card_default_TRAIN_Predict.csv\")"
   ]
  },
  {
   "cell_type": "code",
   "execution_count": 195,
   "metadata": {},
   "outputs": [
    {
     "data": {
      "text/plain": [
       "7.346666666666667"
      ]
     },
     "execution_count": 195,
     "metadata": {},
     "output_type": "execute_result"
    }
   ],
   "source": [
    "test.PREDICTED_STATUS.mean()*100"
   ]
  },
  {
   "cell_type": "code",
   "execution_count": null,
   "metadata": {},
   "outputs": [],
   "source": []
  },
  {
   "cell_type": "code",
   "execution_count": null,
   "metadata": {},
   "outputs": [],
   "source": []
  },
  {
   "cell_type": "code",
   "execution_count": null,
   "metadata": {},
   "outputs": [],
   "source": []
  },
  {
   "cell_type": "code",
   "execution_count": null,
   "metadata": {},
   "outputs": [],
   "source": []
  },
  {
   "cell_type": "code",
   "execution_count": null,
   "metadata": {},
   "outputs": [],
   "source": []
  }
 ],
 "metadata": {
  "kernelspec": {
   "display_name": "Python 3",
   "language": "python",
   "name": "python3"
  },
  "language_info": {
   "codemirror_mode": {
    "name": "ipython",
    "version": 3
   },
   "file_extension": ".py",
   "mimetype": "text/x-python",
   "name": "python",
   "nbconvert_exporter": "python",
   "pygments_lexer": "ipython3",
   "version": "3.7.0"
  }
 },
 "nbformat": 4,
 "nbformat_minor": 2
}
